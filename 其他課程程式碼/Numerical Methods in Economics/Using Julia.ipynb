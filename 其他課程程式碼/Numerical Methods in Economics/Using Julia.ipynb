{
 "cells": [
  {
   "cell_type": "markdown",
   "id": "7810cd47",
   "metadata": {},
   "source": [
    "# [Official Julia Documentation](https://docs.julialang.org/en/v1/)"
   ]
  },
  {
   "cell_type": "markdown",
   "id": "d5802c17",
   "metadata": {},
   "source": [
    "# Why Julia (if you need extra motivation)\n",
    "\n",
    "* [Why We Created Julia](https://julialang.org/blog/2012/02/why-we-created-julia/);\\\n",
    "[Why We Use Julia, 10 Years Later](https://julialang.org/blog/2022/02/10years/)\n",
    "\n",
    "* [Is Julia a “very smart people” thing?](https://thibaut-deveraux.medium.com/is-julia-a-very-smart-people-thing-d03c060a40d0)\n",
    "\n",
    "* [Use Julia For Awesome Data Science Projects](https://betterprogramming.pub/use-julia-for-awesome-data-projects-71d39c345aa9)\n",
    "\n",
    "* [Why You Should Invest in Julia Now, as a Data Scientist](https://betterprogramming.pub/why-you-should-invest-in-julia-now-as-a-data-scientist-30dc346d62e4)\n",
    "\n",
    "* [Why you should learn Julia, as a beginner / first-time programmer](https://medium.com/@logankilpatrick/why-you-should-learn-julia-as-a-beginner-first-time-programmer-96e0ad33faba)\n",
    "\n",
    "* [Introduction to Julia (What is Julia? etc.)](https://blog.quantinsti.com/julia-programming/)"
   ]
  },
  {
   "cell_type": "markdown",
   "id": "7698aecb",
   "metadata": {},
   "source": [
    "# Julia Compared to other Languages\n",
    "\n",
    "* [R vs. Python vs. Julia](https://towardsdatascience.com/r-vs-python-vs-julia-90456a2bcbab)\n",
    "\n",
    "* [Noteworthy Differences from other Languages (Matlab, R, Python, C/C++, Common Lisp)](https://docs.julialang.org/en/v1/manual/noteworthy-differences/#Noteworthy-differences-from-R)\n",
    "\n",
    "* [Julia for R Programmers (What does Julia provide that R doesn't)](https://pages.stat.wisc.edu/~bates/JuliaForRProgrammers.pdf)\n"
   ]
  },
  {
   "cell_type": "markdown",
   "id": "a9a38355",
   "metadata": {},
   "source": [
    "# Julia in Economics and Other Fields (videos only)\n",
    "\n",
    "* [Quantitative Macroeconomics in Julia (by Tom Sargent!!)](https://www.youtube.com/watch?v=KkKBwJkYgVk&ab_channel=TheJuliaProgrammingLanguage) \n",
    "  - 16:20 -- Key Tools\n",
    "  - 27:30 -- Dynamic Programming Squared (new economic research frontier)\n",
    "\n",
    "* [Economic Modeling at the Federal Reserve Bank of New York (DSGE modeling)](https://www.youtube.com/watch?v=Vd2LJI3JLU0&ab_channel=TheJuliaProgrammingLanguage)\n",
    "\n",
    "* [Using Julia to study economic inequality and taxation](https://www.youtube.com/watch?v=dc3iunpMA1o&ab_channel=TheJuliaProgrammingLanguage)\n",
    "\n",
    "* [JuliaRobotics: Making robots walk with Julia (YouTube video; actually quite interesting)](https://www.youtube.com/watch?v=dmWQtI3DFFo&ab_channel=TheJuliaProgrammingLanguage)\n",
    "\n",
    "* [Statistics with Julia from the ground up](https://www.youtube.com/watch?v=IlPoU5Yr2QI&ab_channel=TheJuliaProgrammingLanguage)\n",
    "\n"
   ]
  },
  {
   "cell_type": "markdown",
   "id": "7a1bdd58",
   "metadata": {},
   "source": [
    "# Nice Tutorials (in Jupyter Notebooks)\n",
    "\n",
    "* [10-Minute Guide to Julia For Die-Hard Python Lovers (very good summary)](https://towardsdatascience.com/10-minute-guide-to-julia-for-die-hard-python-lovers-a2fcf7dcb860)\n",
    "* [Tutorial 1 (must read)](https://github.com/mitmath/julia-mit/blob/master/Tutorial.ipynb)\n",
    "* [Tutorial 2 (recommended)](https://github.com/Datseris/Zero2Hero-JuliaWorkshop/blob/master/1-JuliaBasics.ipynb)\n",
    "* [Tutorial 3 (optional)](https://github.com/rdeits/DetroitTechWatch2020.jl/blob/master/Intro%20to%20Julia.ipynb)\n",
    "* [YouTube Resources](https://www.youtube.com/user/JuliaLanguage/playlists)"
   ]
  },
  {
   "cell_type": "markdown",
   "id": "5ddbca91",
   "metadata": {},
   "source": [
    "# Composing and Running Julia Scripts\n",
    "\n",
    "## Use text editors or IDEs to compose Julia scripts and run the scripts in Julia terminals.\n",
    "- Julia scripts have `.jl` extensions.\n",
    "- Julia scripts are plain text files.\n",
    "- Plain text editors include Notepad, Notepad++, etc. Run the scripts in a Julia terminal by `include(\"your_script_name.jl\")`\n",
    "- IDEs include VScode, Juno, etc.. They integrate text editors and Julia terminals together.\n",
    "- Depending on your setup, double-clicking a `*.jl` file may open it in one of your text editors or IDEs.\n",
    "\n",
    "## Using Jupyter Notebook to write Julia code and run the code in the Notebook.\n",
    "- A Jupyter notebook has the `.ipynb` extension.\n",
    "- The notebook has two types of cells.\n",
    "  - A code cell contains code to be executed in the kernel. When the code is run, the notebook displays the output below the code cell that generated it.\n",
    "  - A Markdown cell contains text formatted using Markdown and displays its output in-place when the Markdown cell is run.\n",
    "  - Markdown is a text formatting syntax designed for writing in the internet. There are tons of tutorials on the Markdown language; just google it.\n"
   ]
  },
  {
   "cell_type": "markdown",
   "id": "cf28f3e1",
   "metadata": {},
   "source": [
    "# My own Julia project: [SFrontiers.jl](https://hungjenwang1991.github.io/SFrontiers.jl/index.html). Comments and collaborations welcome. "
   ]
  }
 ],
 "metadata": {
  "kernelspec": {
   "display_name": "Julia 1.7.0-rc1",
   "language": "julia",
   "name": "julia-1.7"
  },
  "language_info": {
   "file_extension": ".jl",
   "mimetype": "application/julia",
   "name": "julia",
   "version": "1.7.0"
  },
  "toc": {
   "base_numbering": 1,
   "nav_menu": {},
   "number_sections": true,
   "sideBar": true,
   "skip_h1_title": false,
   "title_cell": "Table of Contents",
   "title_sidebar": "Contents",
   "toc_cell": false,
   "toc_position": {},
   "toc_section_display": true,
   "toc_window_display": false
  }
 },
 "nbformat": 4,
 "nbformat_minor": 5
}
