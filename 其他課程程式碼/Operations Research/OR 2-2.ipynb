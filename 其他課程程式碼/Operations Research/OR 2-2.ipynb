{
 "cells": [
  {
   "cell_type": "markdown",
   "metadata": {},
   "source": [
    "# Operations Reasearch: Examples for Gurobipy\n",
    "\n",
    "#### License ID 782121\n",
    "*open terminal*: `python /Library/gurobi951/macos_universal2/examples/python/mip1.py`\n",
    "\n",
    "This code is for students who take the class Operations Research.\n",
    "Students should finish the installation of Gurobi and Python before started and make sure an academic liscense for Gurobi is applied and activated.\n",
    "\n",
    "We introduce an example for linear programming problem in order to help students understand how to solve optimization programs with codes.\n",
    "More insturction is provided in the lecture video."
   ]
  },
  {
   "cell_type": "markdown",
   "metadata": {},
   "source": [
    "## Producing desks and tables\n",
    "\n",
    "Consider the problem we introduced in Operations Research: Modeling and Application, we have\n",
    "\n",
    "![alt text](data/img_1.png \"objective and constrains\")\n",
    "\n",
    "Let's consturct our problem with Gurobi step by step."
   ]
  },
  {
   "cell_type": "markdown",
   "metadata": {},
   "source": [
    " We should import the Gurobi optimization package called **gurobipy** first."
   ]
  },
  {
   "cell_type": "code",
   "execution_count": null,
   "metadata": {},
   "outputs": [],
   "source": [
    "# python /Library/gurobi951/macos_universal2/examples/python/or_1.py\n",
    "from gurobipy import *\n",
    "Model()\n",
    "\n"
   ]
  },
  {
   "cell_type": "markdown",
   "metadata": {},
   "source": [
    "Use Gurobi functions **Model** and **addVar** to build a new model and add variables. Remember to set proper parameters as function inputs. In **addVar**, use **lb** to set the lower bound, **vtype** to set the type, and **name** to set the name of a variable.\n",
    "\n",
    "Besides, the paramter value **GRB.CONTINUOUS** means the variable is a continuous number."
   ]
  },
  {
   "cell_type": "code",
   "execution_count": null,
   "metadata": {},
   "outputs": [],
   "source": [
    "# build a new model\n",
    "eg1 = Model(\"eg1\")  # build a new model, name it as \"eg1\"\n",
    "\n",
    "x1 = eg1.addVar(lb = 0, vtype = GRB.CONTINUOUS, name = 'x1')\n",
    "x2 = eg1.addVar(lb = 0, vtype = GRB.CONTINUOUS, name = \"x2\")"
   ]
  },
  {
   "cell_type": "markdown",
   "metadata": {},
   "source": [
    "Use function **setObjective** and **addConstr** to set the objective function and add some constraints. It's necessary to set whether a problem is a maximization or minimization program. Also, remember to give all constraints, variables and the model distinct names."
   ]
  },
  {
   "cell_type": "code",
   "execution_count": null,
   "metadata": {},
   "outputs": [],
   "source": [
    "# setting the objective function\n",
    "# use GRB.MAXIMIZE for a maximization problem\n",
    "eg1.setObjective(700 * x1 + 900 * x2, GRB.MAXIMIZE) \n",
    "\n",
    "# add constraints and name them\n",
    "eg1.addConstr(3 * x1 + 5 * x2 <= 3600, \"resource_wood\")\n",
    "eg1.addConstr(x1 + 2 * x2 <= 1600, \"resource_labor\")\n",
    "eg1.addConstr(50 * x1 + 20 * x2 <= 48000, \"resource_machine\")"
   ]
  },
  {
   "cell_type": "markdown",
   "metadata": {},
   "source": [
    "Use **optimize** to run and solve the model. Finally, we can use **getVars** to list all of the variables and use **objVal** to get the objective value."
   ]
  },
  {
   "cell_type": "code",
   "execution_count": null,
   "metadata": {},
   "outputs": [],
   "source": [
    "eg1.optimize()"
   ]
  },
  {
   "cell_type": "code",
   "execution_count": null,
   "metadata": {},
   "outputs": [],
   "source": [
    "for var in eg1.getVars():\n",
    "    print(var.varName, '=', var.x)\n",
    "print(\"objective value =\", eg1.objVal)"
   ]
  },
  {
   "cell_type": "markdown",
   "metadata": {},
   "source": [
    "Now let's try to decoupling the data from the model. The data part is as below:"
   ]
  },
  {
   "cell_type": "code",
   "execution_count": null,
   "metadata": {},
   "outputs": [],
   "source": [
    "# python /Library/gurobi951/macos_universal2/examples/python/or_2.py\n",
    "products = range(2)  # 2 products    \n",
    "resources = range(3)  # 3 resources\n",
    "\n",
    "prices = [700, 900]    \n",
    "resource_consumptions = [[3 , 5 ],\n",
    "                         [1 , 2 ],\n",
    "                         [50, 20]]\n",
    "resource_limitations = [3600, 1600, 48000]"
   ]
  },
  {
   "cell_type": "markdown",
   "metadata": {},
   "source": [
    "We can rewrite our model in a simpler way."
   ]
  },
  {
   "cell_type": "code",
   "execution_count": null,
   "metadata": {},
   "outputs": [],
   "source": [
    "eg1_decoupling = Model(\"eg1_decoupling\")\n",
    "\n",
    "x = []\n",
    "for i in products:\n",
    "    x.append(eg1_decoupling.addVar(lb = 0, vtype = GRB.CONTINUOUS, name = 'x' + str(i)))\n",
    "\n",
    "eg1_decoupling.setObjective(quicksum(prices[i] * x[i] for i in products) , GRB.MAXIMIZE) \n",
    "\n",
    "# add constraints and name them\n",
    "eg1_decoupling.addConstrs((quicksum(resource_consumptions[j][i] * x[i] for i in products) \n",
    "                           <= resource_limitations[j] for j in resources), \"Resource_limitation\")\n",
    "\n",
    "eg1_decoupling.optimize()\n",
    "\n",
    "for var in eg1_decoupling.getVars():\n",
    "    print(var.varName, '=', var.x)\n",
    "print(\"objective value =\", eg1_decoupling.objVal)"
   ]
  },
  {
   "cell_type": "markdown",
   "metadata": {},
   "source": [
    "![alt text](data/img_2.png \"objective and constrains\")"
   ]
  }
 ],
 "metadata": {
  "kernelspec": {
   "display_name": "Python 3 (ipykernel)",
   "language": "python",
   "name": "python3"
  },
  "language_info": {
   "codemirror_mode": {
    "name": "ipython",
    "version": 3
   },
   "file_extension": ".py",
   "mimetype": "text/x-python",
   "name": "python",
   "nbconvert_exporter": "python",
   "pygments_lexer": "ipython3",
   "version": "3.9.7"
  }
 },
 "nbformat": 4,
 "nbformat_minor": 4
}
