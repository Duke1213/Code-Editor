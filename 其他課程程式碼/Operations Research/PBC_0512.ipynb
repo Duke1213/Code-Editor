{
 "cells": [
  {
   "cell_type": "markdown",
   "metadata": {},
   "source": [
    "# 商管程式設計"
   ]
  },
  {
   "cell_type": "markdown",
   "metadata": {},
   "source": [
    "### import pkgs"
   ]
  },
  {
   "cell_type": "code",
   "execution_count": 1,
   "metadata": {},
   "outputs": [],
   "source": [
    "import numpy as np\n",
    "import math\n"
   ]
  },
  {
   "cell_type": "markdown",
   "metadata": {},
   "source": [
    "### 第0題"
   ]
  },
  {
   "cell_type": "code",
   "execution_count": 21,
   "metadata": {},
   "outputs": [
    {
     "name": "stdout",
     "output_type": "stream",
     "text": [
      "35 9000\n"
     ]
    }
   ],
   "source": [
    "n = int(input()); p_i = str(input()); q_i = str(input()); C = str(input())\n",
    "p = [int(i) for i in p_i.split(\",\")]\n",
    "q = [int(i) for i in q_i.split(\",\")]\n",
    "c = [int(i) for i in C.split(\",\")][0]\n",
    "K = [int(i) for i in C.split(\",\")][1]\n",
    "def q_2(n, p, q, c, K):\n",
    "    opt_p = 0\n",
    "    opt_q = 0\n",
    "    profit = 0\n",
    "    for i in range(n):\n",
    "        if q[i] > K:\n",
    "            q[i] = K\n",
    "    for i in range(n):\n",
    "        if q[i]*(p[i] - c) > profit:\n",
    "            profit = q[i]*(p[i] - c)\n",
    "            opt_p = p[i]\n",
    "            opt_q = q[i]\n",
    "        elif q[i]*(p[i] - c) == profit and q[i] > opt_q:\n",
    "            profit = q[i]*(p[i] - c)\n",
    "            opt_p = p[i]\n",
    "            opt_q = q[i]\n",
    "    print(str(opt_p) + \" \" + str(profit))\n",
    "q_2(n, p, q, c, K)\n"
   ]
  },
  {
   "cell_type": "markdown",
   "metadata": {},
   "source": [
    "### Q1"
   ]
  },
  {
   "cell_type": "code",
   "execution_count": 10,
   "metadata": {},
   "outputs": [
    {
     "name": "stdout",
     "output_type": "stream",
     "text": [
      "1 4\n"
     ]
    }
   ],
   "source": [
    "import math\n",
    "x_1 = int(input()); y_1 = int(input()); x_2 = int(input()); y_2 = int(input());\n",
    "def square(x_1, y_1, x_2, y_2):\n",
    "    if (x_2 - x_1) == (y_2 - y_1):\n",
    "        print(str(1) + \" \" + str((x_2 - x_1)**2))\n",
    "    else:\n",
    "        print(str(0) + \" \" + str((x_2 - x_1)*(y_2-y_1)))\n",
    "square(x_1, y_1, x_2, y_2)"
   ]
  },
  {
   "cell_type": "markdown",
   "metadata": {},
   "source": [
    "### Q2"
   ]
  },
  {
   "cell_type": "code",
   "execution_count": 97,
   "metadata": {},
   "outputs": [
    {
     "name": "stdout",
     "output_type": "stream",
     "text": [
      "1 1 0 1 0 16 25\n"
     ]
    }
   ],
   "source": [
    "import pandas as pd\n",
    "import numpy as np\n",
    "import math\n",
    "i_1 = str(input())\n",
    "w_i = str(input())\n",
    "v_i = str(input())\n",
    "n, B = [int(i) for i in i_1.split(' ')]\n",
    "w = np.array([int(i) for i in w_i.split(\" \")])\n",
    "v = np.array([int(i) for i in v_i.split(\" \")])\n",
    "\n",
    "def knapsack(n, B, w, v):\n",
    "    x = np.ones(n)\n",
    "    weight = np.dot(x, w)\n",
    "    s = pd.Series(w).sort_values(ascending=False)\n",
    "    for j in range(n):\n",
    "        for i in range(1,len(s)):\n",
    "            if s[s.index[i]] == s[s.index[i-1]] and v[s.index[i]] < v[s.index[i-1]]:\n",
    "                a = np.array(s.index)\n",
    "                a_0 = s.index[i-1]\n",
    "                a_1 = s.index[i]\n",
    "                a[i] = a_0\n",
    "                a[i-1] = a_1\n",
    "                s = s[a]\n",
    "    cc = 0\n",
    "    while weight > B and cc <= n:\n",
    "        x[s.index[cc]] = 0\n",
    "        weight = np.dot(x, w)\n",
    "        cc += 1\n",
    "    x = x.astype(int)\n",
    "    ss = ''\n",
    "    for i in x:\n",
    "        ss += ' ' + str(i)\n",
    "    print(ss[1:] + ' ' + str(int(weight)) + \" \" + str(int(np.dot(x, v))))\n",
    "\n",
    "knapsack(n, B, w, v)"
   ]
  },
  {
   "cell_type": "markdown",
   "metadata": {},
   "source": [
    "### Q4"
   ]
  },
  {
   "cell_type": "code",
   "execution_count": 127,
   "metadata": {},
   "outputs": [
    {
     "name": "stdout",
     "output_type": "stream",
     "text": [
      "5 3 1\n"
     ]
    }
   ],
   "source": [
    "import numpy as np\n",
    "import math\n",
    "import pandas as pd\n",
    "\n",
    "m, n, k = [int(i) for i in str(input()).split(';')]\n",
    "B = np.zeros(shape = (m, n))\n",
    "for i in range(m):\n",
    "    B[i, :] = np.array([int(i) for i in str(input()).split(',')])\n",
    "def q_3(m,n,k,B):\n",
    "    c = np.zeros(m)\n",
    "    B_score = np.zeros(m)\n",
    "    for row in range(B.shape[0]):\n",
    "        B_score[row] = np.sum(B[row, :])\n",
    "        for col in range(B.shape[1]):\n",
    "            if B[row, col] > 0.5:\n",
    "                c[row] += 1\n",
    "    R = pd.Series(B_score - k*c).sort_values(ascending=False).index[0:3]\n",
    "    R = np.array(R) + 1\n",
    "    ss = ''\n",
    "    for i in R:\n",
    "        ss += ' ' + str(i)\n",
    "    print(ss[1:])\n",
    "q_3(m,n,k,B)"
   ]
  },
  {
   "cell_type": "markdown",
   "metadata": {},
   "source": [
    "### Q3"
   ]
  },
  {
   "cell_type": "code",
   "execution_count": 167,
   "metadata": {},
   "outputs": [
    {
     "name": "stdout",
     "output_type": "stream",
     "text": [
      "3 1\n"
     ]
    }
   ],
   "source": [
    "import re\n",
    "import numpy as np\n",
    "import math\n",
    "s_1, s_2 = str(input()).split(' ')\n",
    "s = str(input())\n",
    "def find_all(string, objective):\n",
    "    start = string.find(objective)\n",
    "    if start == -1:\n",
    "        return np.array([-1])\n",
    "    output = [start]\n",
    "    while True:\n",
    "        s_0 = string[start+1:]\n",
    "        if s_0.find(objective) == -1:\n",
    "            break\n",
    "        else:\n",
    "            start += s_0.find(objective) + 1\n",
    "            output.append(start)\n",
    "    return np.array(output)\n",
    "s_1 = [' ' + s_1 + ' ', ' ' + s_1 + '.', ' ' + s_1 + '!', ' ' + s_1 + '?']\n",
    "s_2 = [' ' + s_2 + ' ', ' ' + s_2 + '.', ' ' + s_2 + '!', ' ' + s_2 + '?']\n",
    "cut = np.append(np.append(find_all(s, '.'), find_all(s, '?')), find_all(s, '!'))\n",
    "cut = cut[cut>=0]\n",
    "sentence = []\n",
    "# s_with_space = ' ' + s\n",
    "stardo = 0\n",
    "for i in range(len(cut)):\n",
    "    sentence.append(s[stardo:cut[i]+1])\n",
    "    stardo = cut[i] + 1\n",
    "sentence[0] = ' ' + sentence[0]\n",
    "for sen in range(len(sentence)):\n",
    "    score = 0\n",
    "    for s1 in s_1:\n",
    "        if s1 in sentence[sen]:\n",
    "            score += 1\n",
    "            break\n",
    "    for s2 in s_2:\n",
    "        if s2 in sentence[sen]:\n",
    "            score += 1\n",
    "            break\n",
    "    if score == 2:\n",
    "        best_sen = sen + 1\n",
    "        break\n",
    "print(str(len(sentence)) + ' ' + str(best_sen))"
   ]
  },
  {
   "cell_type": "code",
   "execution_count": 160,
   "metadata": {},
   "outputs": [
    {
     "data": {
      "text/plain": [
       "'guf'"
      ]
     },
     "execution_count": 160,
     "metadata": {},
     "output_type": "execute_result"
    }
   ],
   "source": [
    "'gufkcm'[0:3]"
   ]
  },
  {
   "cell_type": "code",
   "execution_count": null,
   "metadata": {},
   "outputs": [],
   "source": []
  }
 ],
 "metadata": {
  "interpreter": {
   "hash": "aee8b7b246df8f9039afb4144a1f6fd8d2ca17a180786b69acc140d282b71a49"
  },
  "kernelspec": {
   "display_name": "Python 3.9.7 64-bit",
   "language": "python",
   "name": "python3"
  },
  "language_info": {
   "codemirror_mode": {
    "name": "ipython",
    "version": 3
   },
   "file_extension": ".py",
   "mimetype": "text/x-python",
   "name": "python",
   "nbconvert_exporter": "python",
   "pygments_lexer": "ipython3",
   "version": "3.9.7"
  }
 },
 "nbformat": 4,
 "nbformat_minor": 4
}
