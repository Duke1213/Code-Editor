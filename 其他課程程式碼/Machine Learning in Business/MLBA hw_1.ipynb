{
 "cells": [
  {
   "cell_type": "markdown",
   "source": [
    "# MLBA homework1"
   ],
   "metadata": {}
  },
  {
   "cell_type": "code",
   "execution_count": 2,
   "source": [
    "# Put the package you need to use here\n",
    "using Random"
   ],
   "outputs": [],
   "metadata": {}
  },
  {
   "cell_type": "markdown",
   "source": [
    "## Q1 Inner Product"
   ],
   "metadata": {}
  },
  {
   "cell_type": "markdown",
   "source": [
    "Define a function on the below block, and name it \"Inner_Product\""
   ],
   "metadata": {}
  },
  {
   "cell_type": "code",
   "execution_count": 3,
   "source": [
    "# Define you function on this block\n",
    "function Inner_Product(vec1, vec2)\n",
    "    ans = 0\n",
    "    for i in 1:length(vec1)\n",
    "        ans += vec1[i]*vec2[i]\n",
    "    end\n",
    "    return ans\n",
    "end"
   ],
   "outputs": [
    {
     "output_type": "execute_result",
     "data": {
      "text/plain": [
       "Inner_Product (generic function with 1 method)"
      ]
     },
     "metadata": {},
     "execution_count": 3
    }
   ],
   "metadata": {}
  },
  {
   "cell_type": "markdown",
   "source": [
    "Run the below blocks to get marks"
   ],
   "metadata": {}
  },
  {
   "cell_type": "code",
   "execution_count": 4,
   "source": [
    "# Q1 Test 1\n",
    "Q1_1_v1 = [1, 2, 3]\n",
    "Q1_1_v2 = [1, 2, 5]\n",
    "println(Inner_Product(Q1_1_v1, Q1_1_v2))"
   ],
   "outputs": [
    {
     "output_type": "stream",
     "name": "stdout",
     "text": [
      "20\n"
     ]
    }
   ],
   "metadata": {}
  },
  {
   "cell_type": "code",
   "execution_count": 5,
   "source": [
    "# Q1 Test 2\n",
    "Q1_2_v1 = [1.82, -2.56, 3.64]\n",
    "Q1_2_v2 = [-1.43, -0.788, 5.3829]\n",
    "println(Inner_Product(Q1_2_v1, Q1_2_v2))"
   ],
   "outputs": [
    {
     "output_type": "stream",
     "name": "stdout",
     "text": [
      "19.008436000000003\n"
     ]
    }
   ],
   "metadata": {}
  },
  {
   "cell_type": "code",
   "execution_count": 6,
   "source": [
    "#Q1 Test 3\n",
    "Q1_3_v1 = [1 3 5]\n",
    "Q1_3_v2 = [1, 3, 4]\n",
    "println(Inner_Product(Q1_3_v1, Q1_3_v2))"
   ],
   "outputs": [
    {
     "output_type": "stream",
     "name": "stdout",
     "text": [
      "30\n"
     ]
    }
   ],
   "metadata": {}
  },
  {
   "cell_type": "code",
   "execution_count": 7,
   "source": [
    "#Q1 Test 4\n",
    "Random.seed!(1314)\n",
    "Q1_4_v1 = rand(10)\n",
    "Q1_4_v2 = rand(10)\n",
    "println(Inner_Product(Q1_4_v1, Q1_4_v2))"
   ],
   "outputs": [
    {
     "output_type": "stream",
     "name": "stdout",
     "text": [
      "2.5256578934035563\n"
     ]
    }
   ],
   "metadata": {}
  },
  {
   "cell_type": "code",
   "execution_count": 8,
   "source": [
    "# Q1 Test 5\n",
    "Random.seed!(9487)\n",
    "Q1_5_v1 = rand(10000)*100\n",
    "Q1_5_v2 = rand(10000)*100\n",
    "println(Inner_Product(Q1_5_v1, Q1_5_v2))"
   ],
   "outputs": [
    {
     "output_type": "stream",
     "name": "stdout",
     "text": [
      "2.5104002162440296e7\n"
     ]
    }
   ],
   "metadata": {}
  },
  {
   "cell_type": "markdown",
   "source": [
    "## Q2 Exception Handling"
   ],
   "metadata": {}
  },
  {
   "cell_type": "markdown",
   "source": [
    "Define a function on the below block, and name it \"Strict_inner_Product\""
   ],
   "metadata": {}
  },
  {
   "cell_type": "code",
   "execution_count": 9,
   "source": [
    "# Define your function on this block\n",
    "function Strict_inner_Product(vec1, vec2)\n",
    "    a = length(vec1)\n",
    "    b = length(vec2)\n",
    "    if size(vec1) != size(vec2)\n",
    "        return \"Warning! $a*1 vector can’t do inner product with a $b*1 vector!\"\n",
    "        # return 0\n",
    "    else\n",
    "        ans = 0\n",
    "        for i in 1:length(vec1)\n",
    "            ans += vec1[i]*vec2[i]\n",
    "        end\n",
    "        return ans\n",
    "    end\n",
    "end"
   ],
   "outputs": [
    {
     "output_type": "execute_result",
     "data": {
      "text/plain": [
       "Strict_inner_Product (generic function with 1 method)"
      ]
     },
     "metadata": {},
     "execution_count": 9
    }
   ],
   "metadata": {}
  },
  {
   "cell_type": "markdown",
   "source": [
    "Run the below blocks to get marks"
   ],
   "metadata": {}
  },
  {
   "cell_type": "code",
   "execution_count": 10,
   "source": [
    "# Q2 Test 1\n",
    "Q2_1_v1 = [1, 2, 3]\n",
    "Q2_1_v2 = [1, 2, 5]\n",
    "println(Strict_inner_Product(Q2_1_v1, Q2_1_v2))\n",
    "# println(size(Q2_1_v1))"
   ],
   "outputs": [
    {
     "output_type": "stream",
     "name": "stdout",
     "text": [
      "20\n"
     ]
    }
   ],
   "metadata": {}
  },
  {
   "cell_type": "code",
   "execution_count": 11,
   "source": [
    "# Q2 Test 2\n",
    "Q2_2_v1 = [1, 2, 3]\n",
    "Q2_2_v2 = [1, 2, 5, 8]\n",
    "println(Strict_inner_Product(Q2_2_v1, Q2_2_v2))\n",
    "# println(typeof(Q2_2_v1) == typeof(Q2_2_v2))"
   ],
   "outputs": [
    {
     "output_type": "stream",
     "name": "stdout",
     "text": [
      "Warning! 3*1 vector can’t do inner product with a 4*1 vector!\n"
     ]
    }
   ],
   "metadata": {}
  },
  {
   "cell_type": "code",
   "execution_count": 12,
   "source": [
    "# Q2 Test 3\n",
    "Random.seed!(2468)\n",
    "Q2_3_v1 = rand(1000)*100\n",
    "Q2_3_v2 = rand(1000)*100\n",
    "println(Strict_inner_Product(Q2_3_v1, Q2_3_v2))"
   ],
   "outputs": [
    {
     "output_type": "stream",
     "name": "stdout",
     "text": [
      "2.4901545835740254e6\n"
     ]
    }
   ],
   "metadata": {}
  },
  {
   "cell_type": "code",
   "execution_count": 13,
   "source": [
    "# Q2 Test 4\n",
    "Q2_4_v1 = [1 2 3 4 5] # matrix?\n",
    "Q2_4_v2 = [3, 4, 5, 6]\n",
    "println(Strict_inner_Product(Q2_4_v1, Q2_4_v2))"
   ],
   "outputs": [
    {
     "output_type": "stream",
     "name": "stdout",
     "text": [
      "Warning! 5*1 vector can’t do inner product with a 4*1 vector!\n"
     ]
    }
   ],
   "metadata": {}
  },
  {
   "cell_type": "code",
   "execution_count": 232,
   "source": [
    "# Q2 Test 5\n",
    "Q2_5_v1 = rand(100)\n",
    "Q2_5_v2 = rand(1001)' # should be 1*1001\n",
    "println(Strict_inner_Product(Q2_5_v1, Q2_5_v2))"
   ],
   "outputs": [
    {
     "output_type": "stream",
     "name": "stdout",
     "text": [
      "Warning! 100*1 vector can’t do inner product with a 1001*1 vector!\n"
     ]
    }
   ],
   "metadata": {}
  },
  {
   "cell_type": "markdown",
   "source": [
    "## Q3 Advanced Exception Handling"
   ],
   "metadata": {}
  },
  {
   "cell_type": "markdown",
   "source": [
    "Define a function on the below block, and name it \"Identify_Wrong_Datatype\""
   ],
   "metadata": {}
  },
  {
   "cell_type": "code",
   "execution_count": 14,
   "source": [
    "# Define your function on this block\n",
    "function Identify_Wrong_Datatype(vec1, vec2)\n",
    "    vc = [1.2, 2]\n",
    "    vcc = [1, 2]\n",
    "    if !(typeof(vec1) in [typeof(vcc), typeof(vc)]) | !(typeof(vec2) in [typeof(vcc), typeof(vc)])\n",
    "        println(\"Warning! \",  typeof(vec1),\" can’t do inner product with \", typeof(vec2), \" !\")\n",
    "        return \"\"\n",
    "        # I don;t know how to return a string so the return is nothing. Could you please help me?\n",
    "    else\n",
    "        ans = 0\n",
    "        for i in 1:length(vec1)\n",
    "            ans += vec1[i]*vec2[i]\n",
    "        end\n",
    "        return ans\n",
    "    end\n",
    "end\n",
    "\n"
   ],
   "outputs": [
    {
     "output_type": "execute_result",
     "data": {
      "text/plain": [
       "Identify_Wrong_Datatype (generic function with 1 method)"
      ]
     },
     "metadata": {},
     "execution_count": 14
    }
   ],
   "metadata": {}
  },
  {
   "cell_type": "markdown",
   "source": [
    "Run the below blocks to get marks"
   ],
   "metadata": {}
  },
  {
   "cell_type": "code",
   "execution_count": 15,
   "source": [
    "# Q3 Test 1\n",
    "Q3_1_v1 = [1, 2, 3]\n",
    "Q3_1_v2 = [1, 2, 5]\n",
    "println(Identify_Wrong_Datatype(Q3_1_v1, Q3_1_v2))"
   ],
   "outputs": [
    {
     "output_type": "stream",
     "name": "stdout",
     "text": [
      "20\n"
     ]
    }
   ],
   "metadata": {}
  },
  {
   "cell_type": "code",
   "execution_count": 16,
   "source": [
    "# Q3 Test 2\n",
    "Q3_2_v1 = [1, 2, 3]\n",
    "Q3_2_v2 = \"[1, 2, 5]\"\n",
    "println(Identify_Wrong_Datatype(Q3_2_v1, Q3_2_v2))"
   ],
   "outputs": [
    {
     "output_type": "stream",
     "name": "stdout",
     "text": [
      "Warning! Vector{Int64} can’t do inner product with String !\n",
      "\n"
     ]
    }
   ],
   "metadata": {}
  },
  {
   "cell_type": "code",
   "execution_count": 17,
   "source": [
    "# Q3 Test 3\n",
    "Q3_3_v1 = \"[1, 2, 3]\"\n",
    "Q3_3_v2 = [1, 2, 5]\n",
    "println(Identify_Wrong_Datatype(Q3_3_v1, Q3_3_v2))"
   ],
   "outputs": [
    {
     "output_type": "stream",
     "name": "stdout",
     "text": [
      "Warning! String can’t do inner product with Vector{Int64} !\n",
      "\n"
     ]
    }
   ],
   "metadata": {}
  },
  {
   "cell_type": "code",
   "execution_count": 18,
   "source": [
    "# Q3 Test 4\n",
    "Q3_4_v1 = \"[1, 2, 3]\"\n",
    "Q3_4_v2 = \"[1, 2, 5]\"\n",
    "println(Identify_Wrong_Datatype(Q3_4_v1, Q3_4_v2))"
   ],
   "outputs": [
    {
     "output_type": "stream",
     "name": "stdout",
     "text": [
      "Warning! String can’t do inner product with String !\n",
      "\n"
     ]
    }
   ],
   "metadata": {}
  },
  {
   "cell_type": "code",
   "execution_count": 19,
   "source": [
    "# Q3 Test 5\n",
    "Q3_5_v1 = [1, 2, 3]\n",
    "Q3_5_v2 = (1, 3, 4)\n",
    "println(Identify_Wrong_Datatype(Q3_5_v1, Q3_5_v2))"
   ],
   "outputs": [
    {
     "output_type": "stream",
     "name": "stdout",
     "text": [
      "Warning! Vector{Int64} can’t do inner product with Tuple{Int64, Int64, Int64} !\n",
      "\n"
     ]
    }
   ],
   "metadata": {}
  },
  {
   "cell_type": "markdown",
   "source": [
    "## Q4 Eugene’s calculator"
   ],
   "metadata": {}
  },
  {
   "cell_type": "markdown",
   "source": [
    "Define a function on the below block, and name it \"Happy_Birthday\""
   ],
   "metadata": {}
  },
  {
   "cell_type": "code",
   "execution_count": 21,
   "source": [
    "# Define the function on this block\n",
    "function Happy_Birthday(n, operand)\n",
    "    x = 10*randn(n)\n",
    "    #x = [1,3,5,8,2,4,3]\n",
    "    new_vec = []\n",
    "    for i in 1: length(operand)\n",
    "        if operand[i] in ['+', '-'] && i != length(operand)\n",
    "            push!(new_vec, x[i])\n",
    "        elseif i == length(operand) && operand[i] in ['+', '-']\n",
    "            push!(new_vec, x[i])\n",
    "            push!(new_vec, x[i+1])\n",
    "        elseif i == length(operand) && operand[i] in ['*', '/']\n",
    "            if operand[i] == '*'\n",
    "                x[i+1] = x[i] *x[i+1]\n",
    "            elseif operand[i] == '/'\n",
    "                x[i+1] = x[i] /x[i+1]\n",
    "            end\n",
    "            push!(new_vec, x[i+1]) # I hope this is ture\n",
    "        elseif operand[i] == '*' && i != length(operand)\n",
    "            x[i] = x[i] *x[i+1]\n",
    "            x[i+1] = x[i]\n",
    "        elseif operand[i] == '/' && i != length(operand)\n",
    "            x[i] = x[i] /x[i+1]\n",
    "            x[i+1] = x[i]\n",
    "        end \n",
    "    end\n",
    "    if length(new_vec) == 0\n",
    "        push!(new_vec, x[length(x)])\n",
    "    end\n",
    "    new_op = []\n",
    "    for i in 1: length(operand)\n",
    "        if operand[i] in ['+', '-']\n",
    "            push!(new_op, operand[i])\n",
    "        end\n",
    "    end\n",
    "\n",
    "    if length(new_vec) == 1\n",
    "        return new_vec[1]\n",
    "    else \n",
    "        ans = new_vec[1]\n",
    "        for i in 1:length(new_op)\n",
    "            if new_op[i] == '+'\n",
    "                ans += new_vec[i+1]\n",
    "            else\n",
    "                ans -= new_vec[i+1]\n",
    "            end\n",
    "        end\n",
    "        return ans\n",
    "    end\n",
    "end\n"
   ],
   "outputs": [
    {
     "output_type": "execute_result",
     "data": {
      "text/plain": [
       "Happy_Birthday (generic function with 1 method)"
      ]
     },
     "metadata": {},
     "execution_count": 21
    }
   ],
   "metadata": {}
  },
  {
   "cell_type": "markdown",
   "source": [
    "Run the below blocks to get marks"
   ],
   "metadata": {}
  },
  {
   "cell_type": "code",
   "execution_count": 22,
   "source": [
    "# Q4 Test 1\n",
    "Random.seed!(4129889)\n",
    "Q4_1_integer = 2\n",
    "Q4_1_operand = ['+']\n",
    "println(Happy_Birthday(Q4_1_integer, Q4_1_operand))"
   ],
   "outputs": [
    {
     "output_type": "stream",
     "name": "stdout",
     "text": [
      "-10.718572830220376\n"
     ]
    }
   ],
   "metadata": {}
  },
  {
   "cell_type": "code",
   "execution_count": 23,
   "source": [
    "# Q4 Test 2\n",
    "Random.seed!(800092000)\n",
    "Q4_2_integer = 3\n",
    "Q4_2_operand = ['+', '-']\n",
    "println(Happy_Birthday(Q4_2_integer, Q4_2_operand))"
   ],
   "outputs": [
    {
     "output_type": "stream",
     "name": "stdout",
     "text": [
      "10.219781421411714\n"
     ]
    }
   ],
   "metadata": {}
  },
  {
   "cell_type": "code",
   "execution_count": 24,
   "source": [
    "# Q4 Test 3\n",
    "Random.seed!(870887)\n",
    "Q4_3_integer = 4\n",
    "Q4_3_operand = ['+', '-', '*']\n",
    "println(Happy_Birthday(Q4_3_integer, Q4_3_operand))"
   ],
   "outputs": [
    {
     "output_type": "stream",
     "name": "stdout",
     "text": [
      "-13.815154666776664\n"
     ]
    }
   ],
   "metadata": {}
  },
  {
   "cell_type": "code",
   "execution_count": 25,
   "source": [
    "# Q4 Test 4\n",
    "Random.seed!(7414666)\n",
    "Q4_4_integer = 5\n",
    "Q4_4_operand = ['+', '-', '*', '/']\n",
    "println(Happy_Birthday(Q4_4_integer, Q4_4_operand))"
   ],
   "outputs": [
    {
     "output_type": "stream",
     "name": "stdout",
     "text": [
      "18.235369031000126\n"
     ]
    }
   ],
   "metadata": {}
  },
  {
   "cell_type": "code",
   "execution_count": 26,
   "source": [
    "# Q4 Test 5\n",
    "Random.seed!(9481)\n",
    "Q4_5_integer = 12\n",
    "Q4_5_operand = ['+', '-', '*', '/', '/', '*', '+', '*', '-', '/', '+']\n",
    "println(Happy_Birthday(Q4_5_integer, Q4_5_operand))"
   ],
   "outputs": [
    {
     "output_type": "stream",
     "name": "stdout",
     "text": [
      "4.7789487449993695\n"
     ]
    }
   ],
   "metadata": {}
  },
  {
   "cell_type": "markdown",
   "source": [
    "## Q5 Sunny’s Crazy Idea"
   ],
   "metadata": {}
  },
  {
   "cell_type": "markdown",
   "source": [
    "Define a function on the below block, and name it \"Account_Manager\""
   ],
   "metadata": {}
  },
  {
   "cell_type": "code",
   "execution_count": 31,
   "source": [
    "# Define the function on this block\n",
    "function Account_Manager(name, q, p)\n",
    "    n = length(name)\n",
    "    if length(q) < n\n",
    "        j = 1\n",
    "        for i in 1:n\n",
    "            if i > length(q) && j != length(q)\n",
    "                push!(q, q[j])\n",
    "                println(\"The quantity for \", name[i], \" is missing and filled with \", q[j], \".\")\n",
    "                \n",
    "                # I don;t know how to return a string so the return is nothing. Could you please help me?\n",
    "                j += 1\n",
    "            elseif i > length(q) && j == length(q)\n",
    "                push!(q, q[j])\n",
    "                println(\"The quantity for \", name[i], \" is missing and filled with \", q[j], \".\")\n",
    "                #return \"\"\n",
    "                j = 1\n",
    "            end\n",
    "        end\n",
    "    end\n",
    "\n",
    "    if length(p) < n\n",
    "        j = 1\n",
    "        for i in 1:n\n",
    "            if i > length(p) && j != length(p)\n",
    "                push!(p, p[j])\n",
    "                println(\"The price for \",name[i],\" is missing and filled with \", p[j], \".\")\n",
    "                #return \"\"\n",
    "                j += 1\n",
    "            elseif i > length(p) && j == length(p)\n",
    "                push!(p, p[j])\n",
    "                println(\"The price for \",name[i],\" is missing and filled with \", p[j], \".\")\n",
    "                #return \"\"\n",
    "                j = 1\n",
    "            end\n",
    "        end\n",
    "    end\n",
    "    println(\"The total expense is \", p'*q, '.')\n",
    "    return \"\"\n",
    "end"
   ],
   "outputs": [
    {
     "output_type": "execute_result",
     "data": {
      "text/plain": [
       "Account_Manager (generic function with 1 method)"
      ]
     },
     "metadata": {},
     "execution_count": 31
    }
   ],
   "metadata": {}
  },
  {
   "cell_type": "markdown",
   "source": [
    "Run the below blocks to get marks"
   ],
   "metadata": {}
  },
  {
   "cell_type": "code",
   "execution_count": 32,
   "source": [
    "# Q5 Test 1\n",
    "Q5_1_name = [\"Sunny\", \"Hsin\", \"Eric\"]\n",
    "Q5_1_quantity = [0, 1, 1]\n",
    "Q5_1_price = [1, 10, 100]\n",
    "println(Account_Manager(Q5_1_name, Q5_1_quantity, Q5_1_price))"
   ],
   "outputs": [
    {
     "output_type": "stream",
     "name": "stdout",
     "text": [
      "The total expense is 110.\n",
      "\n"
     ]
    }
   ],
   "metadata": {}
  },
  {
   "cell_type": "code",
   "execution_count": 33,
   "source": [
    "# Q5 Test 2\n",
    "Q5_2_name = [\"Sunny\", \"Hsin\", \"Eric\", \"Breakfast\", \"Dinner\", \"Concert\"]\n",
    "Q5_2_quantity = [0, 1, 1, 10, 20]\n",
    "Q5_2_price = [1, 10, 100, 5, 50, 500]\n",
    "println(Account_Manager(Q5_2_name, Q5_2_quantity, Q5_2_price))"
   ],
   "outputs": [
    {
     "output_type": "stream",
     "name": "stdout",
     "text": [
      "The quantity for Concert is missing and filled with 0.\n",
      "The total expense is 1160.\n",
      "\n"
     ]
    }
   ],
   "metadata": {}
  },
  {
   "cell_type": "code",
   "execution_count": 34,
   "source": [
    "# Q5 Test 3\n",
    "Q5_3_name = [\"Sunny\", \"Hsin\", \"Eric\", \"Breakfast\", \"Dinner\", \"Concert\"]\n",
    "Q5_3_quantity = [0, 1, 1, 10, 20, 50]\n",
    "Q5_3_price = [1, 10, 100, 5, 50]\n",
    "println(Account_Manager(Q5_3_name, Q5_3_quantity, Q5_3_price))"
   ],
   "outputs": [
    {
     "output_type": "stream",
     "name": "stdout",
     "text": [
      "The price for Concert is missing and filled with 1.\n",
      "The total expense is 1210.\n",
      "\n"
     ]
    }
   ],
   "metadata": {}
  },
  {
   "cell_type": "code",
   "execution_count": 35,
   "source": [
    "# Q5 Test 4\n",
    "Q5_4_name = [\"Sunny\", \"Hsin\", \"Eric\", \"Breakfast\", \"Dinner\", \"Concert\"]\n",
    "Q5_4_quantity = [0, 1, 1, 10, 20]\n",
    "Q5_4_price = [1, 10, 100, 5, 50]\n",
    "println(Account_Manager(Q5_4_name, Q5_4_quantity, Q5_4_price))"
   ],
   "outputs": [
    {
     "output_type": "stream",
     "name": "stdout",
     "text": [
      "The quantity for Concert is missing and filled with 0.\n",
      "The price for Concert is missing and filled with 1.\n",
      "The total expense is 1160.\n",
      "\n"
     ]
    }
   ],
   "metadata": {}
  },
  {
   "cell_type": "code",
   "execution_count": 36,
   "source": [
    "# Q5 Test 5\n",
    "Q5_5_name = [\"Sunny\", \"Hsin\", \"Eric\", \"Breakfast\", \"Dinner\", \"Concert\"]\n",
    "Q5_5_quantity = [0, 1, 1, 10]\n",
    "Q5_5_price = [1, 10, 100, 5]\n",
    "println(Account_Manager(Q5_5_name, Q5_5_quantity, Q5_5_price))"
   ],
   "outputs": [
    {
     "output_type": "stream",
     "name": "stdout",
     "text": [
      "The quantity for Dinner is missing and filled with 0.\n",
      "The quantity for Concert is missing and filled with 1.\n",
      "The price for Dinner is missing and filled with 1.\n",
      "The price for Concert is missing and filled with 10.\n",
      "The total expense is 170.\n",
      "\n"
     ]
    }
   ],
   "metadata": {}
  }
 ],
 "metadata": {
  "kernelspec": {
   "display_name": "Julia 1.7.0-rc1",
   "language": "julia",
   "name": "julia-1.7"
  },
  "language_info": {
   "file_extension": ".jl",
   "name": "julia",
   "mimetype": "application/julia",
   "version": "1.7.0"
  }
 },
 "nbformat": 4,
 "nbformat_minor": 4
}