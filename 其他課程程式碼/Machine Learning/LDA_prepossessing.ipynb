{
 "cells": [
  {
   "cell_type": "code",
   "execution_count": null,
   "id": "4376d090-0a47-403e-9ff3-97c61e4ae908",
   "metadata": {},
   "outputs": [],
   "source": [
    "import pandas as pd\n",
    "df = pd.read_excel('TEJ.xlsx', sheet_name='result_FINAL') #sheet_name 決定資料"
   ]
  },
  {
   "cell_type": "code",
   "execution_count": null,
   "id": "7aa695e0-617d-40b4-990f-bdf358adfe26",
   "metadata": {},
   "outputs": [],
   "source": [
    "import os\n",
    "files = list(map(lambda x: x.split('.txt')[0], filter(lambda x: '.txt' in x, os.listdir('致股東報告書')))) #讀取檔名"
   ]
  },
  {
   "cell_type": "code",
   "execution_count": null,
   "id": "7514602e-1526-493e-a24a-ef8ec45b3cb9",
   "metadata": {},
   "outputs": [],
   "source": [
    "import math\n",
    "result = []\n",
    "remove_list = ['【', '】', '「', '｣', '（', '）', '［', '］', '〖', '〗', '『', '』', '。', '，', '、', '：', '；', '～', '！',\n",
    "          '＠', '＃', '％', '＾', '＆', '＝', '＋', '－', '＊', '／', '＼', '＿', '？', '〈', '〉', '《', '》', '[', ']', \n",
    "          '{', '}', '<', '>', '(', ')', '‘', '’', '.', ',', ':', ';', '`', '~', '!', '@', '#', '%', '%', '^', '&', \n",
    "          '_', '=', '+', '-', '*', '/', '\\\\', '_', '?', '★', '◎', '\\\\n', '\\\\t', '元', 'cid', '\\\\uf06a', '致股東報告書', \n",
    "          '0', '1', '2', '3', '4', '5', '6', '7', '8', '9', '壹', '貳', '參', '肆', '伍', '陸', '柒', '捌', '玖', '拾',\n",
    "          '佰', '仟', '萬', '億', '兆', '零', '一', '二', '三', '四', '五', '六', '七', '八', '九', '十', '○']\n",
    "\n",
    "for index, data in df.iterrows():\n",
    "    file_name = data['檔名']\n",
    "    value = data['y_營業收入淨額']\n",
    "    \n",
    "    if not math.isnan(value) and file_name in files:\n",
    "        with open('致股東報告書/{0}.txt'.format(file_name) ,encoding=\"utf-8\") as f:\n",
    "            text = f.read()\n",
    "            for r in remove_list:\n",
    "                text = text.replace(r, '')\n",
    "            text = text.strip(' ')\n",
    "            text = ' '.join(text.split())\n",
    "            if len(text) > 50:\n",
    "                result.append({'file_name':file_name , 'text': text, 'result': '0' if value == 0 else '1'})"
   ]
  },
  {
   "cell_type": "code",
   "execution_count": null,
   "id": "09cf6ccd-a1bf-49e5-97a0-0838345fbf87",
   "metadata": {},
   "outputs": [],
   "source": [
    "#result[100]"
   ]
  },
  {
   "cell_type": "code",
   "execution_count": null,
   "id": "e19f56ec-1248-411e-acb2-195faa48b0ab",
   "metadata": {},
   "outputs": [],
   "source": [
    "len(result)"
   ]
  },
  {
   "cell_type": "code",
   "execution_count": null,
   "id": "8eb4760a-1b9b-486a-a9a2-33599cfd4468",
   "metadata": {},
   "outputs": [],
   "source": [
    "import numpy as np\n",
    "file_name = [x['file_name'] for x in result]\n",
    "docs = [x['text'] for x in result]\n",
    "y_data = np.array([x['result'] for x in result])"
   ]
  },
  {
   "cell_type": "code",
   "execution_count": null,
   "id": "2babf1e4-59d2-4e51-b725-5760f2bbd924",
   "metadata": {},
   "outputs": [],
   "source": [
    "import jieba \n",
    "jieba.set_dictionary('./dict.txt.big.txt')\n",
    "\n",
    "def token(text):\n",
    "    texts=jieba.cut(text)\n",
    "    text=[]\n",
    "    for j in texts:\n",
    "        text.append(j)\n",
    "    return text"
   ]
  },
  {
   "cell_type": "code",
   "execution_count": null,
   "id": "5c992545-46c6-480d-8995-54e6d51c5cba",
   "metadata": {},
   "outputs": [],
   "source": [
    "#token後的所有文章\n",
    "texts=[] \n",
    "for i in range(len(docs)):\n",
    "    temp = token(docs[i])\n",
    "    temp = list(filter(lambda x: x != ' ', temp))\n",
    "    texts.append(temp)"
   ]
  },
  {
   "cell_type": "code",
   "execution_count": null,
   "id": "239433f9-f2e6-4241-9956-06afbc59db09",
   "metadata": {},
   "outputs": [],
   "source": [
    "docs_final=[] #改成可以直接丟進去CountVectorizer套件的格式\n",
    "for i in range(len(texts)):\n",
    "    a=\" \".join(texts[i])\n",
    "    docs_final.append(a)\n",
    "#docs_final[100]"
   ]
  },
  {
   "cell_type": "code",
   "execution_count": null,
   "id": "9eb6baf3-8a52-41c4-93b9-8fa40486751d",
   "metadata": {},
   "outputs": [],
   "source": [
    "from sklearn.feature_extraction.text import CountVectorizer\n",
    "TF_vectorizer = CountVectorizer(stop_words='english')\n",
    "TF_vectors = TF_vectorizer.fit_transform(docs_final)\n",
    "TF_vectors.shape"
   ]
  },
  {
   "cell_type": "code",
   "execution_count": null,
   "id": "1fcfe500-82bd-4835-8a29-957f72382261",
   "metadata": {},
   "outputs": [],
   "source": [
    "from sklearn.decomposition import LatentDirichletAllocation as LDA\n",
    "lda_model = LDA(n_components = 768, random_state = 87)\n",
    "LDA_vectors = lda_model.fit_transform(TF_vectors)\n",
    "LDA_vectors.shape"
   ]
  },
  {
   "cell_type": "code",
   "execution_count": null,
   "id": "7da9ef0c-82f5-4887-bbe1-6515b552310d",
   "metadata": {},
   "outputs": [],
   "source": [
    "import random\n",
    "random.seed(87)\n",
    "random.shuffle(LDA_vectors)\n",
    "random.seed(87)\n",
    "random.shuffle(y_data)\n",
    "random.seed(87)\n",
    "random.shuffle(file_name)"
   ]
  },
  {
   "cell_type": "code",
   "execution_count": null,
   "id": "567e2052-4f5a-4582-8db9-f57c2db75a30",
   "metadata": {},
   "outputs": [],
   "source": [
    "data_lda = {name: {'x': LDA_vectors[index], 'y': y_data[index]} for index, name in enumerate(file_name)}"
   ]
  },
  {
   "cell_type": "code",
   "execution_count": null,
   "id": "8a9583f5-b447-489c-9886-d07a35fd8a17",
   "metadata": {},
   "outputs": [],
   "source": [
    "import pickle\n",
    "file = open(\"./LDA/營業收入淨額_lda_data.pkl\", \"wb\")\n",
    "pickle.dump(data_lda, file)\n",
    "file.close()"
   ]
  },
  {
   "cell_type": "code",
   "execution_count": null,
   "id": "db55d54c-9329-48de-b2d9-2f77eadfe75d",
   "metadata": {},
   "outputs": [],
   "source": []
  },
  {
   "cell_type": "code",
   "execution_count": null,
   "id": "58183e55-fe78-4a5e-829a-76de6327140a",
   "metadata": {},
   "outputs": [],
   "source": []
  },
  {
   "cell_type": "code",
   "execution_count": null,
   "id": "b305c6da-7a09-4a45-a4a6-65cdaf256129",
   "metadata": {},
   "outputs": [],
   "source": []
  }
 ],
 "metadata": {
  "kernelspec": {
   "display_name": "Python 3 (ipykernel)",
   "language": "python",
   "name": "python3"
  },
  "language_info": {
   "codemirror_mode": {
    "name": "ipython",
    "version": 3
   },
   "file_extension": ".py",
   "mimetype": "text/x-python",
   "name": "python",
   "nbconvert_exporter": "python",
   "pygments_lexer": "ipython3",
   "version": "3.9.12"
  }
 },
 "nbformat": 4,
 "nbformat_minor": 5
}
