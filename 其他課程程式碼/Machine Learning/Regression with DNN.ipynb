{
  "nbformat": 4,
  "nbformat_minor": 0,
  "metadata": {
    "colab": {
      "name": "HW1_Solution.ipynb",
      "provenance": [],
      "collapsed_sections": []
    },
    "kernelspec": {
      "name": "python3",
      "display_name": "Python 3"
    },
    "accelerator": "GPU"
  },
  "cells": [
    {
      "cell_type": "markdown",
      "metadata": {
        "id": "mz0_QVkxCrX3"
      },
      "source": [
        "# **HW1: COVID-19 Cases Prediction (Regression)**"
      ]
    },
    {
      "cell_type": "markdown",
      "metadata": {
        "id": "ZeZnPAiwDRWG"
      },
      "source": [
        "Methods:\n",
        "* Training with all data\n",
        "* `Feature selection` (14 important features)\n",
        "* DNN architecture (`dimension=91, activation=RReLU`)\n",
        "* Training (`mini-batch=135, optimizer=SGD, learning rate=0.001`)\n",
        "* L2 regularization\n",
        "* Sharing the same normalization mean and std between the training and testing sets."
      ]
    },
    {
      "cell_type": "markdown",
      "metadata": {
        "id": "Jx3x1nDkG-Uy"
      },
      "source": [
        "## **Download Data**\n",
        "\n",
        "\n",
        "If the Google drive links are dead, you can download data from [kaggle](https://www.kaggle.com/c/ml2021spring-hw1/data), and upload data manually to the workspace."
      ]
    },
    {
      "cell_type": "code",
      "metadata": {
        "colab": {
          "base_uri": "https://localhost:8080/"
        },
        "id": "tMj55YDKG6ch",
        "outputId": "55b8cf27-b132-47a9-f4fc-d0bf043c8292"
      },
      "source": [
        "tr_path = 'covid.train.csv'  # dim: 2700*94\n",
        "tt_path = 'covid.test.csv'  # dim: 893*93\n",
        "\n",
        "!gdown --id '19CCyCgJrUxtvgZF53vnctJiOJ23T5mqF' --output covid.train.csv\n",
        "!gdown --id '1CE240jLm2npU-tdz81-oVKEF3T2yfT1O' --output covid.test.csv"
      ],
      "execution_count": 48,
      "outputs": [
        {
          "output_type": "stream",
          "text": [
            "Downloading...\n",
            "From: https://drive.google.com/uc?id=19CCyCgJrUxtvgZF53vnctJiOJ23T5mqF\n",
            "To: /content/covid.train.csv\n",
            "100% 2.00M/2.00M [00:00<00:00, 31.6MB/s]\n",
            "Downloading...\n",
            "From: https://drive.google.com/uc?id=1CE240jLm2npU-tdz81-oVKEF3T2yfT1O\n",
            "To: /content/covid.test.csv\n",
            "100% 651k/651k [00:00<00:00, 10.3MB/s]\n"
          ],
          "name": "stdout"
        }
      ]
    },
    {
      "cell_type": "markdown",
      "metadata": {
        "id": "wS_4-77xHk44"
      },
      "source": [
        "# **Import Some Packages**"
      ]
    },
    {
      "cell_type": "code",
      "metadata": {
        "id": "k-onQd4JNA5H"
      },
      "source": [
        "# PyTorch\n",
        "import torch\n",
        "import torch.nn as nn\n",
        "from torch.utils.data import Dataset, DataLoader\n",
        "\n",
        "# For data preprocess\n",
        "import numpy as np\n",
        "import csv\n",
        "import os\n",
        "\n",
        "# For plotting\n",
        "import matplotlib.pyplot as plt\n",
        "from matplotlib.pyplot import figure"
      ],
      "execution_count": 49,
      "outputs": []
    },
    {
      "cell_type": "markdown",
      "metadata": {
        "id": "BtE3b6JEH7rw"
      },
      "source": [
        "# **Some Utilities**\n",
        "\n",
        "設定隨機初始的network參數(weight, bias)"
      ]
    },
    {
      "cell_type": "code",
      "metadata": {
        "id": "FWMT3uf1NGQp"
      },
      "source": [
        "def random_seed_setup(seed):\n",
        "    # as device\n",
        "    torch.backends.cudnn.deterministic = True\n",
        "    torch.backends.cudnn.benchmark = False\n",
        "    np.random.seed(seed)\n",
        "    torch.manual_seed(seed)\n",
        "    if torch.cuda.is_available():\n",
        "        torch.cuda.manual_seed_all(seed)\n",
        "        return 'cuda'\n",
        "    else:\n",
        "        return 'cpu'\n",
        "\n",
        "def plot_learning_curve(loss_record, title=''):\n",
        "    total_steps = len(loss_record['train'])\n",
        "    x_1 = range(total_steps)\n",
        "    figure(figsize=(6, 4))\n",
        "    plt.plot(x_1, loss_record['train'], c='tab:red', label='train')\n",
        "    plt.ylim(0.0, 5.)\n",
        "    plt.xlabel('Training steps')\n",
        "    plt.ylabel('MSE loss')\n",
        "    plt.title('Learning curve of {}'.format(title))\n",
        "    plt.legend()\n",
        "    plt.show()"
      ],
      "execution_count": 50,
      "outputs": []
    },
    {
      "cell_type": "markdown",
      "metadata": {
        "id": "DT7qk88bKRCX"
      },
      "source": [
        "# **Preprocess**"
      ]
    },
    {
      "cell_type": "markdown",
      "metadata": {
        "id": "TQ-MdwpLL7Dt"
      },
      "source": [
        "## **Dataset**\n",
        "\n",
        "The `COVID19Dataset` below does:\n",
        "* read `.csv` files\n",
        "* extract features\n",
        "* split `covid.train.csv` into train/dev sets\n",
        "* normalize features\n",
        "\n",
        "`注意`:Covid19這個class繼承了nn裡面的`Dataset` module.\n",
        "\n",
        "有解釋能力的features為cli， ili， hh_cmnty_cli， nohh_cmnty_cli， tested_positive\n",
        "\n",
        "每天都有一筆input feature, 共三天。（第三天少一個tested_positive）\n",
        "\n",
        "`self.dim`是資料的input dim"
      ]
    },
    {
      "cell_type": "code",
      "metadata": {
        "id": "0zlpIp9ANJRU"
      },
      "source": [
        "class Covid19Dataset(Dataset):\n",
        "    # Read data & preprocess\n",
        "    def __init__(self,\n",
        "                 path,\n",
        "                 mode='train',\n",
        "                 normalize='none',\n",
        "                 target_only=False,\n",
        "                 norm_mean=None,\n",
        "                 norm_std=None):\n",
        "        self.mode = mode\n",
        "\n",
        "        with open(path, 'r') as fp:     # 標示符'r'表示讀\n",
        "            data = list(csv.reader(fp))  # list of lists: 一個row為一個list(first list is col names)\n",
        "            self.data_class = data[0][1:] # [1:] 表示去掉`id`，也就是index那col。\n",
        "            data = np.array(data[1:])[:, 1:].astype(float) # [:,1:]左邊表示每個row都要，且去掉每個row的index。\n",
        "            ''' 完整的去掉index和colname的array完成啦！ '''\n",
        "       \n",
        "        if not target_only:   # not feature selection\n",
        "            feats = list(range(93))\n",
        "        else:\n",
        "            feats = 40 + np.array([0, 1, 2, 3, 17, 18, 19, 20, 21, 35, 36, 37, 38, 39])\n",
        "\n",
        "        if mode == 'test':\n",
        "            data = data[:, feats] # 因為inference也只用得到這些\n",
        "            self.data = torch.FloatTensor(data) # turn array into tensor\n",
        "        else:\n",
        "            target = data[:, -1] # last col, 即正確答案\n",
        "            data = data[:, feats]\n",
        "            \n",
        "            # Splitting into train/validation\n",
        "            if mode == 'train':\n",
        "                indices = [i for i in range(len(data)) if i % 10 != 0] # len(data) would be number of rows.\n",
        "            elif mode == 'dev':\n",
        "                indices = list(range(893))\n",
        "            else:\n",
        "                indices = list(range(len(data)))\n",
        "                # only when mode == 'train_all' (i.e., using all data for training)\n",
        "            data = data[indices]\n",
        "            target = target[indices]\n",
        "            self.data = torch.FloatTensor(data)\n",
        "            self.target = torch.FloatTensor(target)\n",
        "        \n",
        "       \n",
        "        self.norm_mean = None\n",
        "        self.norm_std = None\n",
        "\n",
        "        if normalize == 'self':\n",
        "            '''假如有n個col(ft)，mean/std(of ft)就是n個元素的一維向量，unsqueeze(0)會幫忙轉為1*n的2維向量'''\n",
        "            self.norm_mean = self.data.mean(dim=0).unsqueeze(0)\n",
        "            self.norm_std = self.data.std(dim=0).unsqueeze(0)\n",
        "            self.data = (self.data - self.norm_mean) / self.norm_std\n",
        "        if normalize == 'given' and (norm_mean is not None) and (norm_std is not None):\n",
        "            self.data = (self.data - norm_mean) / norm_std\n",
        "            # we will Sharing the same normalization mean and std between the training and testing sets\n",
        "\n",
        "        self.dim = self.data.shape[1] # number of col/ft, input dim of model\n",
        "\n",
        "        print('Finished reading the {} set of the Covid19 Dataset ({} samples found, each dim = {})'\n",
        "              .format(mode, self.data.shape[0], self.data.shape[1]))\n",
        "\n",
        "    # Returns one sample at a time\n",
        "    def __getitem__(self, index):\n",
        "        if self.mode in ['train', 'dev', 'train_all']:\n",
        "            return self.data[index], self.target[index]\n",
        "        # in Training loop, it would be i, (x,y) in enumerate(dataloader)\n",
        "        else:\n",
        "            return self.data[index]\n",
        "    # Returns the size of the dataset\n",
        "    def __len__(self):\n",
        "        return len(self.data)"
      ],
      "execution_count": 51,
      "outputs": []
    },
    {
      "cell_type": "markdown",
      "metadata": {
        "id": "AlhTlkE7MDo3"
      },
      "source": [
        "## **DataLoader**\n",
        "\n",
        "A `DataLoader` loads data from a given `Dataset` into batches.\n"
      ]
    },
    {
      "cell_type": "code",
      "metadata": {
        "id": "hlhLk5t6MBX3"
      },
      "source": [
        "def prep_dataloader(tr_path, tt_path, batch_size, n_jobs=0, target_only=False):\n",
        "    tr_dataset = Covid19Dataset(\n",
        "        tr_path, mode='train_all',\n",
        "        normalize='self', \n",
        "        target_only=target_only)\n",
        "\n",
        "    dv_dataset = Covid19Dataset(\n",
        "        tr_path, mode='dev',\n",
        "        normalize='given', \n",
        "        target_only=target_only,\n",
        "        norm_mean=tr_dataset.norm_mean,\n",
        "        norm_std=tr_dataset.norm_std)\n",
        "\n",
        "    tt_dataset = Covid19Dataset(\n",
        "        tt_path, mode='test',\n",
        "        normalize='given',\n",
        "        target_only=target_only,\n",
        "        norm_mean=tr_dataset.norm_mean,\n",
        "        norm_std=tr_dataset.norm_std)\n",
        "    \n",
        "    tr_dataloader = DataLoader(  # 這邊要注意的參數是shuffle， batch_size 以及num_worker(效能)\n",
        "        tr_dataset, batch_size,\n",
        "        shuffle=True, drop_last=False,\n",
        "        num_workers=n_jobs, pin_memory=True)\n",
        "    \n",
        "    dv_dataloader = DataLoader(\n",
        "        dv_dataset, batch_size,\n",
        "        shuffle=False, drop_last=False,\n",
        "        num_workers=n_jobs, pin_memory=True)\n",
        "\n",
        "    tt_dataloader = DataLoader(\n",
        "        tt_dataset, batch_size,\n",
        "        shuffle=False, drop_last=False,\n",
        "        num_workers=n_jobs, pin_memory=True)\n",
        "    \n",
        "    return tr_dataloader, dv_dataloader, tt_dataloader"
      ],
      "execution_count": 52,
      "outputs": []
    },
    {
      "cell_type": "markdown",
      "metadata": {
        "id": "SGuycwR0MeQB"
      },
      "source": [
        "# **Deep Neural Network**\n",
        "\n",
        "`NeuralNet` is an `nn.Module` designed for regression.\n",
        "The DNN consists of 2 fully-connected layers with ReLU activation.\n",
        "This module also included a function `cal_loss` for calculating loss.\n",
        "\n",
        "`super物件`在member function名稱重複時使用，用來處理多重繼承時的適用順序判定。\n",
        "* 此處的應用為 `覆寫`並設計想要的network structure\n",
        "\n",
        "[L2 regularization](https://www.analyticsvidhya.com/blog/2018/04/fundamentals-deep-learning-regularization-techniques/) is also known as `weight decay` as it forces the weights to decay towards zero by adding panelty in loss function.\n"
      ]
    },
    {
      "cell_type": "code",
      "metadata": {
        "id": "49-uXYovOAI0"
      },
      "source": [
        "class NeuralNet(nn.Module):\n",
        "    def __init__(self, input_dim, l2_reg=0.):\n",
        "        '''Initialize your model & define layers'''\n",
        "        super(NeuralNet, self).__init__()\n",
        "        \n",
        "        self.net = nn.Sequential(\n",
        "            nn.Linear(input_dim, 91),\n",
        "            nn.RReLU(),  \n",
        "            nn.Linear(91, 1)\n",
        "        )\n",
        "        self.criterion = nn.MSELoss(reduction='mean')\n",
        "        self.l2_reg = l2_reg\n",
        "\n",
        "    def forward(self, x):\n",
        "        ''' Given input of size (batch_size x input_dim), compute output of the network '''\n",
        "        return self.net(x).squeeze(1) # make sure that output dim = 1\n",
        "\n",
        "    def cal_loss(self, pred, target, is_train=True):\n",
        "        total_loss = 0\n",
        "        mse_loss = self.criterion(pred, target)\n",
        "        total_loss += mse_loss\n",
        "        # L2 regularization, with hyperparameter lambda.\n",
        "        if is_train and self.l2_reg > 0.:\n",
        "            reg_loss = 0\n",
        "            for param in self.parameters():\n",
        "                reg_loss += torch.norm(param, p=2) # L`2`, p is the order of norm.\n",
        "            total_loss += reg_loss * self.l2_reg\n",
        "        \n",
        "        return total_loss, mse_loss"
      ],
      "execution_count": 53,
      "outputs": []
    },
    {
      "cell_type": "markdown",
      "metadata": {
        "id": "DvFWVjZ5Nvga"
      },
      "source": [
        "# **Train/Dev/Test**"
      ]
    },
    {
      "cell_type": "markdown",
      "metadata": {
        "id": "MAM8QecJOyqn"
      },
      "source": [
        "## **Training**"
      ]
    },
    {
      "cell_type": "code",
      "metadata": {
        "id": "lOqcmYzMO7jB"
      },
      "source": [
        "def train(tr_set, dv_set, model, config, device):\n",
        "    n_epochs = config['n_epochs']\n",
        "    '''getattr 可從torch.optim這個物件中取出特定optimizer（的屬性值）。'''\n",
        "    optimizer = getattr(torch.optim, config['optimizer'])(\n",
        "        model.parameters(), **config['optim_hparas'])\n",
        "\n",
        "    loss_record = {'train': []}\n",
        "    epoch = 0\n",
        "    while epoch < n_epochs:\n",
        "        model.train()\n",
        "        '''i would be the index, (x,y) is the data <-> target pair in form of tensor'''\n",
        "        for i, (x, y) in enumerate(tr_set):\n",
        "            optimizer.zero_grad()\n",
        "            x, y = x.to(device), y.to(device)\n",
        "            pred = model(x)\n",
        "            total_loss, mse_loss = model.cal_loss(pred, y, is_train=True)\n",
        "            total_loss.backward() # cal gradient\n",
        "            optimizer.step() # 更新參數\n",
        "            loss_record['train'].append(total_loss.detach().cpu().item())\n",
        "\n",
        "        dev_mse = dev(dv_set, model, device)\n",
        "        \n",
        "        print('Saving model (epoch = {:3d}), validation_loss would be {:.2f} !'\n",
        "              .format(epoch + 1, dev_mse))\n",
        "        torch.save(model.state_dict(), config['save_path'])\n",
        "        # 可考慮，遇到loss最低的再存\n",
        "        epoch += 1\n",
        "\n",
        "    print('Finished training after {} epochs'.format(epoch))\n",
        "    return loss_record\n",
        "\n",
        "\n",
        "def dev(dv_set, model, device):\n",
        "    model.eval()\n",
        "    total_loss = 0\n",
        "    for x, y in dv_set:\n",
        "        x, y = x.to(device), y.to(device)\n",
        "        with torch.no_grad():\n",
        "            pred = model(x)\n",
        "            _, mse_loss = model.cal_loss(pred, y, is_train=False) \n",
        "        total_loss += mse_loss.detach().cpu().item() * len(x)\n",
        "    total_loss = total_loss / len(dv_set.dataset)\n",
        "    # 這邊的total loss有點混舀，注意即可\n",
        "    return total_loss"
      ],
      "execution_count": 71,
      "outputs": []
    },
    {
      "cell_type": "markdown",
      "metadata": {
        "id": "g0pdrhQAO41L"
      },
      "source": [
        "## **Testing**\n",
        "remember to concatenate all predictions and convert to a numpy array"
      ]
    },
    {
      "cell_type": "code",
      "metadata": {
        "id": "aSBMRFlYN5tB"
      },
      "source": [
        "def test(tt_set, model, device):\n",
        "    model.eval()                                \n",
        "    preds = []\n",
        "    for x in tt_set:                           \n",
        "        x = x.to(device)                       \n",
        "        with torch.no_grad():                  \n",
        "            pred = model(x)                    \n",
        "            preds.append(pred.detach().cpu())   \n",
        "    preds = torch.cat(preds, dim=0).numpy()    \n",
        "    return preds"
      ],
      "execution_count": 55,
      "outputs": []
    },
    {
      "cell_type": "markdown",
      "metadata": {
        "id": "SvckkF5dvf0j"
      },
      "source": [
        "# **Setup Hyper-parameters**\n",
        "\n",
        "`config` contains hyper-parameters for training and the path to save your model."
      ]
    },
    {
      "cell_type": "code",
      "metadata": {
        "id": "NPXpdumwPjE7"
      },
      "source": [
        "device = random_seed_setup(42097)\n",
        "os.makedirs('models', exist_ok=True)  # create a file\n",
        "target_only = True\n",
        "\n",
        "config = {\n",
        "    'n_epochs': 80,                  \n",
        "    'batch_size': 135,               \n",
        "    'optimizer': 'SGD',              \n",
        "    'optim_hparas': {                \n",
        "        'lr': 0.001,                 \n",
        "        'momentum': 0.9             \n",
        "    },\n",
        "    'early_stop': 20,                # early stopping epochs (the number epochs since your model's last improvement)\n",
        "    'save_path': 'models/model.pth' \n",
        "}"
      ],
      "execution_count": 56,
      "outputs": []
    },
    {
      "cell_type": "markdown",
      "metadata": {
        "id": "6j1eOV3TOH-j"
      },
      "source": [
        "# **Load data and model**"
      ]
    },
    {
      "cell_type": "code",
      "metadata": {
        "colab": {
          "base_uri": "https://localhost:8080/"
        },
        "id": "eNrYBMmePLKm",
        "outputId": "3a98cfd4-6495-4888-9efa-9d075cdbb445"
      },
      "source": [
        "tr_set, dv_set, tt_set = prep_dataloader(\n",
        "    tr_path, tt_path, config['batch_size'], \n",
        "    target_only=target_only)"
      ],
      "execution_count": 73,
      "outputs": [
        {
          "output_type": "stream",
          "text": [
            "Finished reading the train_all set of the Covid19 Dataset (2700 samples found, each dim = 14)\n",
            "Finished reading the dev set of the Covid19 Dataset (893 samples found, each dim = 14)\n",
            "Finished reading the test set of the Covid19 Dataset (893 samples found, each dim = 14)\n"
          ],
          "name": "stdout"
        }
      ]
    },
    {
      "cell_type": "code",
      "metadata": {
        "id": "FHylSirLP9oh"
      },
      "source": [
        "model = NeuralNet(tr_set.dataset.dim, 0.001).to(device)  # Construct model and move to device"
      ],
      "execution_count": 65,
      "outputs": []
    },
    {
      "cell_type": "markdown",
      "metadata": {
        "id": "sX2B_zgSOPTJ"
      },
      "source": [
        "# **Start Training!**"
      ]
    },
    {
      "cell_type": "code",
      "metadata": {
        "colab": {
          "base_uri": "https://localhost:8080/"
        },
        "id": "GrEbUxazQAAZ",
        "outputId": "89c86953-0c89-4dcd-f7de-9476f8ff771f"
      },
      "source": [
        "model_loss_record = train(tr_set, dv_set, model, config, device)"
      ],
      "execution_count": 72,
      "outputs": [
        {
          "output_type": "stream",
          "text": [
            "Saving model (epoch =   1), validation_loss would be 1.09 !\n",
            "Saving model (epoch =   2), validation_loss would be 1.07 !\n",
            "Saving model (epoch =   3), validation_loss would be 1.07 !\n",
            "Saving model (epoch =   4), validation_loss would be 1.08 !\n",
            "Saving model (epoch =   5), validation_loss would be 1.07 !\n",
            "Saving model (epoch =   6), validation_loss would be 1.08 !\n",
            "Saving model (epoch =   7), validation_loss would be 1.07 !\n",
            "Saving model (epoch =   8), validation_loss would be 1.09 !\n",
            "Saving model (epoch =   9), validation_loss would be 1.07 !\n",
            "Saving model (epoch =  10), validation_loss would be 1.09 !\n",
            "Saving model (epoch =  11), validation_loss would be 1.08 !\n",
            "Saving model (epoch =  12), validation_loss would be 1.08 !\n",
            "Saving model (epoch =  13), validation_loss would be 1.07 !\n",
            "Saving model (epoch =  14), validation_loss would be 1.08 !\n",
            "Saving model (epoch =  15), validation_loss would be 1.08 !\n",
            "Saving model (epoch =  16), validation_loss would be 1.09 !\n",
            "Saving model (epoch =  17), validation_loss would be 1.09 !\n",
            "Saving model (epoch =  18), validation_loss would be 1.07 !\n",
            "Saving model (epoch =  19), validation_loss would be 1.07 !\n",
            "Saving model (epoch =  20), validation_loss would be 1.10 !\n",
            "Saving model (epoch =  21), validation_loss would be 1.06 !\n",
            "Saving model (epoch =  22), validation_loss would be 1.09 !\n",
            "Saving model (epoch =  23), validation_loss would be 1.07 !\n",
            "Saving model (epoch =  24), validation_loss would be 1.07 !\n",
            "Saving model (epoch =  25), validation_loss would be 1.07 !\n",
            "Saving model (epoch =  26), validation_loss would be 1.06 !\n",
            "Saving model (epoch =  27), validation_loss would be 1.09 !\n",
            "Saving model (epoch =  28), validation_loss would be 1.14 !\n",
            "Saving model (epoch =  29), validation_loss would be 1.07 !\n",
            "Saving model (epoch =  30), validation_loss would be 1.07 !\n",
            "Saving model (epoch =  31), validation_loss would be 1.07 !\n",
            "Saving model (epoch =  32), validation_loss would be 1.06 !\n",
            "Saving model (epoch =  33), validation_loss would be 1.10 !\n",
            "Saving model (epoch =  34), validation_loss would be 1.09 !\n",
            "Saving model (epoch =  35), validation_loss would be 1.18 !\n",
            "Saving model (epoch =  36), validation_loss would be 1.07 !\n",
            "Saving model (epoch =  37), validation_loss would be 1.12 !\n",
            "Saving model (epoch =  38), validation_loss would be 1.07 !\n",
            "Saving model (epoch =  39), validation_loss would be 1.06 !\n",
            "Saving model (epoch =  40), validation_loss would be 1.06 !\n",
            "Saving model (epoch =  41), validation_loss would be 1.13 !\n",
            "Saving model (epoch =  42), validation_loss would be 1.06 !\n",
            "Saving model (epoch =  43), validation_loss would be 1.06 !\n",
            "Saving model (epoch =  44), validation_loss would be 1.10 !\n",
            "Saving model (epoch =  45), validation_loss would be 1.07 !\n",
            "Saving model (epoch =  46), validation_loss would be 1.07 !\n",
            "Saving model (epoch =  47), validation_loss would be 1.07 !\n",
            "Saving model (epoch =  48), validation_loss would be 1.06 !\n",
            "Saving model (epoch =  49), validation_loss would be 1.07 !\n",
            "Saving model (epoch =  50), validation_loss would be 1.07 !\n",
            "Saving model (epoch =  51), validation_loss would be 1.06 !\n",
            "Saving model (epoch =  52), validation_loss would be 1.08 !\n",
            "Saving model (epoch =  53), validation_loss would be 1.08 !\n",
            "Saving model (epoch =  54), validation_loss would be 1.06 !\n",
            "Saving model (epoch =  55), validation_loss would be 1.07 !\n",
            "Saving model (epoch =  56), validation_loss would be 1.07 !\n",
            "Saving model (epoch =  57), validation_loss would be 1.07 !\n",
            "Saving model (epoch =  58), validation_loss would be 1.06 !\n",
            "Saving model (epoch =  59), validation_loss would be 1.08 !\n",
            "Saving model (epoch =  60), validation_loss would be 1.08 !\n",
            "Saving model (epoch =  61), validation_loss would be 1.06 !\n",
            "Saving model (epoch =  62), validation_loss would be 1.07 !\n",
            "Saving model (epoch =  63), validation_loss would be 1.06 !\n",
            "Saving model (epoch =  64), validation_loss would be 1.06 !\n",
            "Saving model (epoch =  65), validation_loss would be 1.06 !\n",
            "Saving model (epoch =  66), validation_loss would be 1.06 !\n",
            "Saving model (epoch =  67), validation_loss would be 1.08 !\n",
            "Saving model (epoch =  68), validation_loss would be 1.07 !\n",
            "Saving model (epoch =  69), validation_loss would be 1.09 !\n",
            "Saving model (epoch =  70), validation_loss would be 1.07 !\n",
            "Saving model (epoch =  71), validation_loss would be 1.11 !\n",
            "Saving model (epoch =  72), validation_loss would be 1.06 !\n",
            "Saving model (epoch =  73), validation_loss would be 1.07 !\n",
            "Saving model (epoch =  74), validation_loss would be 1.06 !\n",
            "Saving model (epoch =  75), validation_loss would be 1.07 !\n",
            "Saving model (epoch =  76), validation_loss would be 1.07 !\n",
            "Saving model (epoch =  77), validation_loss would be 1.07 !\n",
            "Saving model (epoch =  78), validation_loss would be 1.06 !\n",
            "Saving model (epoch =  79), validation_loss would be 1.07 !\n",
            "Saving model (epoch =  80), validation_loss would be 1.08 !\n",
            "Finished training after 80 epochs\n"
          ],
          "name": "stdout"
        }
      ]
    },
    {
      "cell_type": "code",
      "metadata": {
        "colab": {
          "base_uri": "https://localhost:8080/",
          "height": 295
        },
        "id": "hsNO9nnXQBvP",
        "outputId": "a9761c55-8f83-4017-ff4a-f0a4b064e07b"
      },
      "source": [
        "plot_learning_curve(model_loss_record, title='deep model')"
      ],
      "execution_count": 60,
      "outputs": [
        {
          "output_type": "display_data",
          "data": {
            "image/png": "[encoded data removed]",
            "text/plain": [
              "<Figure size 432x288 with 1 Axes>"
            ]
          },
          "metadata": {
            "tags": [],
            "needs_background": "light"
          }
        }
      ]
    },
    {
      "cell_type": "code",
      "metadata": {
        "colab": {
          "base_uri": "https://localhost:8080/"
        },
        "id": "3iZTVn5WQFpX",
        "outputId": "55a0cf49-910f-42eb-babe-e4a5c062cd88"
      },
      "source": [
        "del model\n",
        "model = NeuralNet(tr_set.dataset.dim).to(device)\n",
        "ckpt = torch.load(config['save_path'], map_location='cpu')  # Load your best model\n",
        "model.load_state_dict(ckpt)"
      ],
      "execution_count": 61,
      "outputs": [
        {
          "output_type": "execute_result",
          "data": {
            "text/plain": [
              "<All keys matched successfully>"
            ]
          },
          "metadata": {
            "tags": []
          },
          "execution_count": 61
        }
      ]
    },
    {
      "cell_type": "markdown",
      "metadata": {
        "id": "aQikz3IPiyPf"
      },
      "source": [
        "# **Testing**\n",
        "The predictions of your model on testing set will be stored at `pred.csv`."
      ]
    },
    {
      "cell_type": "code",
      "metadata": {
        "colab": {
          "base_uri": "https://localhost:8080/"
        },
        "id": "O8cTuQjQQOon",
        "outputId": "e433192d-c680-4230-cfd7-22be57f1aba2"
      },
      "source": [
        "def save_pred(preds, file):\n",
        "    ''' Save predictions to specified file '''\n",
        "    print('Saving results to {}'.format(file))\n",
        "    with open(file, 'w') as fp:\n",
        "        writer = csv.writer(fp)\n",
        "        writer.writerow(['id', 'tested_positive'])\n",
        "        for i, p in enumerate(preds):\n",
        "            writer.writerow([i, p])\n",
        "\n",
        "preds = test(tt_set, model, device)  \n",
        "save_pred(preds, 'pred.csv')         "
      ],
      "execution_count": 62,
      "outputs": [
        {
          "output_type": "stream",
          "text": [
            "Saving results to pred.csv\n"
          ],
          "name": "stdout"
        }
      ]
    },
    {
      "cell_type": "markdown",
      "metadata": {
        "id": "9tmCwXgpot3t"
      },
      "source": [
        "# **Reference**\n",
        "This code is completely written by Heng-Jui Chang @ NTUEE.  \n",
        "Copying or reusing this code is required to specify the original author."
      ]
    }
  ]
}