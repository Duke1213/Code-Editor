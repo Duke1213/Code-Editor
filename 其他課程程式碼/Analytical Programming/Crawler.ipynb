{
 "cells": [
  {
   "cell_type": "code",
   "execution_count": 2,
   "metadata": {},
   "outputs": [],
   "source": [
    "import requests\n",
    "import json\n",
    "import xml.etree.ElementTree as ET\n",
    "from bs4 import BeautifulSoup"
   ]
  },
  {
   "cell_type": "code",
   "execution_count": 8,
   "metadata": {},
   "outputs": [
    {
     "name": "stdout",
     "output_type": "stream",
     "text": [
      "<class 'dict'>\n",
      "dict_keys(['QTime', 'totalRows', 'totalPage', 'range', 'cateName', 'q', 'subq', 'token', 'isMust', 'prods'])\n"
     ]
    }
   ],
   "source": [
    "request_url = \"https://ecshweb.pchome.com.tw/search/v3.3/all/results\"\n",
    "query_str_params = {\n",
    "    'q': 'macbook',\n",
    "    'page': 1,\n",
    "    'sort': 'rnk/dc'\n",
    "}\n",
    "response = requests.get(request_url, params=query_str_params)\n",
    "\n",
    "json_format = response.json() # // json.loads(response.text)\n",
    "print(type(json_format))\n",
    "print(json_format.keys())\n",
    "\n",
    "# print(type(json_format['prods']))  #//array"
   ]
  },
  {
   "cell_type": "code",
   "execution_count": 9,
   "metadata": {},
   "outputs": [
    {
     "name": "stdout",
     "output_type": "stream",
     "text": [
      "<class 'xml.etree.ElementTree.Element'>\n"
     ]
    }
   ],
   "source": [
    "request_url = \"https://emap.pcsc.com.tw/EMapSDK.aspx\"\n",
    "form_data = {\n",
    "    'commandid': 'SearchStore',\n",
    "    'city': '台北市',\n",
    "    'town': '大安區'\n",
    "}\n",
    "response = requests.post(request_url, data=form_data)\n",
    "\n",
    "root = ET.fromstring(response.text)\n",
    "print(type(root))\n",
    "\n",
    "# The XPath for POIName\n",
    "poinames = [e.text for e in root.findall('.//POIName')] # './/Address'\n",
    "print(poinames)\n"
   ]
  },
  {
   "cell_type": "code",
   "execution_count": null,
   "metadata": {},
   "outputs": [],
   "source": [
    "request_url = \"https://www.imdb.com/title/tt10048342\"\n",
    "response = requests.get(request_url)\n",
    "\n",
    "soup = BeautifulSoup(response.text)\n",
    "print(type(soup))\n",
    "\n",
    "# The CSS Selector for title\n",
    "title = soup.select('h1')[0].text.strip()\n",
    "print(title)\n",
    "\n",
    "# The CSS Selector for rating\n",
    "rating = float(soup.select('.ipc-button__text span')[0].text)\n",
    "print(rating)\n",
    "\n",
    "# The CSS Selector for poster\n",
    "poster = soup.select('.poster img')[0].get('src')\n",
    "print(poster)"
   ]
  },
  {
   "cell_type": "code",
   "execution_count": null,
   "metadata": {},
   "outputs": [],
   "source": [
    "# The CSS Selector for cast\n",
    "request_url = \"https://www.imdb.com/title/tt10048342/fullcredits\"\n",
    "response = requests.get(request_url)\n",
    "soup = BeautifulSoup(response.text)\n",
    "cast = [e.text.strip() for e in soup.select('.primary_photo+ td a')]\n",
    "print(cast)\n",
    "\n",
    "# The CSS Selector for characters\n",
    "characters = [e.text.strip() for e in soup.select('.character a:nth-child(1)')]\n",
    "print(characters)"
   ]
  }
 ],
 "metadata": {
  "kernelspec": {
   "display_name": "Python 3",
   "language": "python",
   "name": "python3"
  },
  "language_info": {
   "codemirror_mode": {
    "name": "ipython",
    "version": 3
   },
   "file_extension": ".py",
   "mimetype": "text/x-python",
   "name": "python",
   "nbconvert_exporter": "python",
   "pygments_lexer": "ipython3",
   "version": "3.8.6"
  }
 },
 "nbformat": 4,
 "nbformat_minor": 4
}
