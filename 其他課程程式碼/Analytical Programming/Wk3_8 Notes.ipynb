{
 "cells": [
  {
   "cell_type": "markdown",
   "metadata": {},
   "source": [
    "# Wk 3 資料結構"
   ]
  },
  {
   "cell_type": "markdown",
   "metadata": {},
   "source": [
    "## Tuple"
   ]
  },
  {
   "cell_type": "code",
   "execution_count": null,
   "metadata": {},
   "outputs": [],
   "source": [
    "# list[0:len(list):2] #list[::-1]\n",
    "tuple= (3,6,8,10,8,4)\n",
    "tuple.index(3) # (use TAB after '.')\n",
    "'''tuple() can convert lists. '''\n",
    "\n",
    "def get_locale(country, city):\n",
    "    return country, city\n",
    "\n",
    "print(type(get_locale('TPE','AUS')))\n",
    "my_country, my_city = get_locale(\"Taiwan\", \"Taipei\")\n",
    "print(my_country)"
   ]
  },
  {
   "cell_type": "markdown",
   "metadata": {},
   "source": [
    "# dict"
   ]
  },
  {
   "cell_type": "code",
   "execution_count": 1,
   "metadata": {
    "scrolled": true
   },
   "outputs": [
    {
     "name": "stdout",
     "output_type": "stream",
     "text": [
      "Boston\n",
      "{'isNBAFranchise': True, 'city': 'Boston', 'fullName': 'Boston Celtics', 'teamId': 1610612738, 'nickname': 'Celtics', 'confName': 'East', 'divName': 'Atlantic'}\n",
      "dict_items([('isNBAFranchise', True), ('city', 'Boston'), ('fullName', 'Boston Celtics'), ('teamId', 1610612738), ('nickname', 'Celtics'), ('confName', 'East'), ('divName', 'Atlantic')])\n"
     ]
    }
   ],
   "source": [
    "dict = {\n",
    "    'isNBAFranchise': True,\n",
    "    'city': \"Boston\",\n",
    "    'fullName': \"Boston Celtics\",\n",
    "    'tricode': \"BOS\",\n",
    "    'teamId': 1610612738,\n",
    "    'nickname': \"Celtics\",\n",
    "    'confName': \"East\",\n",
    "    'divName': \"Atlantic\"\n",
    "}\n",
    "print(dict['city']) #the value of a dist is mutable\n",
    "\n",
    "del dict['tricode']\n",
    "print(dict)\n",
    "\n",
    "#.keys .values \n",
    "print(dict.items())"
   ]
  },
  {
   "cell_type": "markdown",
   "metadata": {},
   "source": [
    "## set"
   ]
  },
  {
   "cell_type": "code",
   "execution_count": 2,
   "metadata": {},
   "outputs": [
    {
     "name": "stdout",
     "output_type": "stream",
     "text": [
      "{1, 2, 3, 5, 7, 9, 11}\n",
      "{1, 2, 3, 5, 7, 9, 11}\n",
      "{3, 5, 7}\n",
      "{3, 5, 7}\n",
      "{2, 11}\n",
      "{2, 11}\n",
      "[1, 2, 9, 11]\n",
      "{1, 2, 9, 11}\n",
      "{1, 2, 9, 11}\n"
     ]
    }
   ],
   "source": [
    "primes = {2, 3, 5, 7, 11}\n",
    "odds = {1, 3, 5, 7, 9}\n",
    "\n",
    "print(primes | odds)\n",
    "print(primes.union(odds))\n",
    "\n",
    "print(primes & odds)       \n",
    "print(primes.intersection(odds)) \n",
    "\n",
    "print(primes - odds)      \n",
    "print(primes.difference(odds)) \n",
    "\n",
    "print(sorted((primes - odds) | (odds - primes))) # union two differences\n",
    "print(primes ^ odds)    \n",
    "print(primes.symmetric_difference(odds)) "
   ]
  },
  {
   "cell_type": "markdown",
   "metadata": {},
   "source": [
    "# wk4 function\n",
    "\n",
    "print(\"{} is positive.\".format(x))\n",
    "We can break down alternative/chained conditionals once our conditions are mutually exclusive\n",
    "order matters!(one of the alternatives will run)\n",
    "\n",
    "- Use for to iterate over lists, dictionaries, and other iterables\n",
    "- Use while if our operations involve randomness or uncertainty\n",
    "\n",
    "An iterable is any Python object capable of returning its elements one at a time, permitting it to be iterated over in a for loop. Familiar examples of iterables include lists, tuples, and strings.\n",
    "\n",
    "summation/ count: 略過。可用sum/len代替迴圈"
   ]
  },
  {
   "cell_type": "code",
   "execution_count": null,
   "metadata": {},
   "outputs": [],
   "source": [
    "def return_modulo_divided_by_three(x):\n",
    "    if x % 3 == 1:\n",
    "        msg = \"The modulo of {} divided by 3 is 1.\".format(x)\n",
    "    if x % 3 == 2:\n",
    "        msg = \"The modulo of {} divided by 3 is 2.\".format(x)\n",
    "    if x % 3 == 0:\n",
    "        msg = \"The modulo of {} divided by 3 is 0.\".format(x)\n",
    "    return msg\n",
    "\n",
    "may4th = \"Luke, use the Force!\"\n",
    "I = iter(may4th) # 取出iterator\n",
    "print(next(I))\n",
    "print(next(I)) # Return the next item from the iterator.\n",
    "\n",
    "def is_x_iterable(x):\n",
    "    try: # 一般情況\n",
    "        I = iter(x)\n",
    "        return True\n",
    "    except: # 例外：用來處理error message\n",
    "        x_type = type(x)\n",
    "        return \"{} is not iterable\".format(x_type)\n",
    "    \n",
    "the_celtics = {\n",
    "    'isNBAFranchise': True,\n",
    "    'city': \"Boston\",\n",
    "    'fullName': \"Boston Celtics\",\n",
    "    'tricode': \"BOS\",\n",
    "    'teamId': 1610612738,\n",
    "    'nickname': \"Celtics\",\n",
    "    'confName': \"East\",\n",
    "    'divName': \"Atlantic\"\n",
    "}\n",
    "for k, v in the_celtics.items():\n",
    "    print(\"{}: {}\".format(k, v))\n",
    "    \n",
    "# Iterating over a nested data structure\n",
    "batman_trilogy = {\n",
    "    \"titles\": [\"Batman Begins\", \"The Dark Knight\", \"The Dark Knight Rises\"],\n",
    "    \"release_dates\": [\"June 15, 2005\", \"July 18, 2008\", \"July 20, 2012\"],\n",
    "    \"director\": [\"Christopher Nolan\", \"Christopher Nolan\", \"Christopher Nolan\"]\n",
    "}\n",
    "for v in batman_trilogy.values():\n",
    "    for i in v:\n",
    "        print(i)\n",
    "        \n",
    "# if summation >= 100:\n",
    "#     break #提早結束迴圈\n",
    "\n",
    "# if i % 2 == 1:\n",
    "#     continue # skip certain steps"
   ]
  },
  {
   "cell_type": "markdown",
   "metadata": {},
   "source": [
    "# wk 5\n",
    "Although global variable looks quite convenient, it is HIGHLY recommended NOT using global variable directly in a indented function block\n",
    "\n",
    "Useful iterators in Python\n",
    "range() # 下面四個都是generator !!\n",
    "enumerate() # count elements in list\n",
    "zip() # key-value(dict)\n",
    "map() # map 後的list(or other dat type) 為暫時存在的\n",
    "filter()\n",
    "reduce()"
   ]
  },
  {
   "cell_type": "code",
   "execution_count": null,
   "metadata": {},
   "outputs": [],
   "source": [
    "from random import randint\n",
    "from functools import reduce\n",
    "from operator import add\n",
    "from operator import mul\n",
    "\n",
    "def plain_return(*args):\n",
    "    \"\"\"\n",
    "    Using '*args' for flexible inputs as a tuple。\n",
    "    '**kwargs' as a dict\n",
    "    \"\"\"\n",
    "    return args\n",
    "\n",
    "print(plain_return(5, 5, 6, 6))\n",
    "\n",
    "try:\n",
    "    exec(\"\"\"for (i in range(10)) {print(i)}\"\"\") # sequence of statements if everything is fine\n",
    "except SyntaxError:\n",
    "    print(\"Encountering a SyntaxError.\")  # sequence of statements if something goes wrong\n",
    "    \n",
    "    \n",
    "# comprehension\n",
    "primes = [2, 3, 5, 7, 11]\n",
    "squared_primes = [p**2 for p in primes]\n",
    "print(squared_primes)\n",
    "\n",
    "random_integers = [randint(1, 100) for _ in range(20)]\n",
    "odds_from_random_integers = [ri for ri in random_integers if ri % 2 == 1]\n",
    "\n",
    "is_odd_from_random_integers = [True if ri % 2 == 1 else False for ri in random_integers]\n",
    "# comprehension works on set & dict\n",
    "primes = {2, 3, 5, 7, 11}\n",
    "squared_primes = {p**2 for p in primes}\n",
    "\n",
    "squared_primes_dict = {p: p**2 for p in primes}\n",
    "\n",
    "# generator\n",
    "primes = [2, 3, 5, 7, 11]\n",
    "squared_primes = (p**2 for p in primes)\n",
    "print(squared_primes)\n",
    "print(type(squared_primes))\n",
    "\n",
    "# A generator expression does not actually compute the values until they are needed\n",
    "print(list(squared_primes))\n",
    "print(list(squared_primes)) # a generator is 一次性使用"
   ]
  },
  {
   "cell_type": "code",
   "execution_count": null,
   "metadata": {},
   "outputs": [],
   "source": [
    "# 說明 filter\n",
    "random_bools = [bool(randint(0, 1)) for _ in range(20)]\n",
    "print(random_bools)\n",
    "\n",
    "print(filter(None, random_bools))\n",
    "print(list(filter(None, random_bools))) # 用list 作用在filter上\n",
    "\n",
    "# lambda expression with map and filter\n",
    "\n",
    "primes = [2, 3, 5, 7, 11, 13, 17, 19, 23, 29]\n",
    "print(list(map(lambda x: x**2, primes)))\n",
    "print(list(filter(lambda x: x >= 10, primes)))\n",
    "\n",
    "# reduce: 逐漸少用\n",
    "primes = [2, 3, 5, 7, 11, 13, 17, 19, 23, 29]\n",
    "\n",
    "print(reduce(add, primes))\n",
    "print(reduce(mul, primes))"
   ]
  },
  {
   "cell_type": "markdown",
   "metadata": {},
   "source": [
    "# wk7 class\n",
    "## object-oriented programming, OOP (~ software development)\n",
    "\n",
    "- The data is usually not visible outside the object. \n",
    "\n",
    "- Popular object classes created by third party libraries\n",
    "ndarray\n",
    "Index\n",
    "Series\n",
    "DataFrame\n",
    "\n",
    "\n",
    "- class defines the name diplayed when calling type() after object is created\n",
    "- '__init__' initiates the object itself\n",
    "- 'self' proxies the object/class itself after object is created\n",
    "\n",
    "The self in keyword in Python is used to all the instances in a class. By using the self keyword, one can easily access all the instances defined within a class, including its methods and attributes.\n",
    "\n",
    "__init__ is one of the reserved methods in Python. In object oriented programming, it is known as a constructor. Access is required to initialize the attributes of the class.\n",
    "\n",
    "- Class is a mechanism to bind data and functions onto a specific object\n",
    "- Thereafter we can access data via the object's attributes and call function via the object's methods"
   ]
  },
  {
   "cell_type": "code",
   "execution_count": null,
   "metadata": {},
   "outputs": [],
   "source": [
    "# the object id is instantiated via int class\n",
    "id = 5566\n",
    "print(type(id))\n",
    "\n",
    "class SimpleCalculator:\n",
    "    \"\"\"\n",
    "    This class has an attribute of Euler's number: e.\n",
    "    \"\"\"\n",
    "    def __init__(self):\n",
    "        self.e = 2.71828182846\n",
    "    def add(self, x, y):\n",
    "        return x + y\n",
    "sc = SimpleCalculator()\n",
    "sc.e\n",
    "\n",
    "# Inheritance \n",
    "class IntermediateCalculator(SimpleCalculator):\n",
    "    pass\n",
    "\n",
    "ic = IntermediateCalculator()\n",
    "print(ic.add('55', '66'))"
   ]
  },
  {
   "cell_type": "markdown",
   "metadata": {},
   "source": [
    "繼承後, class 能做的事情?\n",
    "- Extending attributes or methods\n",
    "- Revising attributes or methods"
   ]
  },
  {
   "cell_type": "markdown",
   "metadata": {},
   "source": [
    "# wk8 \n",
    "A Python module is a file with the extension of .py which consists of a couple of functions or classes.\n",
    "\n",
    "- Use __file__ attribute to find the location of a certain module\n",
    "- Type cd /opt/conda/lib/python3.8 in terminal to change directory\n",
    "- Use ls to see some standard modules/ standard libraries in directory\n",
    "\n",
    "\n",
    "A Python library is a folder which consists of a couple of libraries and modules.\n",
    "- /opt/conda/lib/python3.8/site-packages is the directory of third-party module.\n",
    "\n",
    "PyPi stands for Python Package Index."
   ]
  },
  {
   "cell_type": "code",
   "execution_count": null,
   "metadata": {},
   "outputs": [],
   "source": [
    "# simple_calculator.py (in working directory)# local module <> standard module\n",
    "class SimpleCalculator:\n",
    "    def __init__(self):\n",
    "        self.e = 2.71828182846\n",
    "    def add(self, x, y):\n",
    "        return x + y\n",
    "    def subtract(self, x, y):\n",
    "        return x - y\n",
    "    def multiply(self, x, y):\n",
    "        return x * y\n",
    "    def divide(self, x, y):\n",
    "        return x / y\n",
    "\n",
    "#import simple_calculator as sc # 依module的py檔為package名稱\n",
    "\n",
    "#sim_calc = sc.SimpleCalculator()\n",
    "#print(sim_calc.e)\n",
    "\n",
    "\n",
    "# Import specific feature(class or function) from a module\n",
    "from simple_calculator import SimpleCalculator as ..."
   ]
  }
 ],
 "metadata": {
  "kernelspec": {
   "display_name": "Python 3",
   "language": "python",
   "name": "python3"
  },
  "language_info": {
   "codemirror_mode": {
    "name": "ipython",
    "version": 3
   },
   "file_extension": ".py",
   "mimetype": "text/x-python",
   "name": "python",
   "nbconvert_exporter": "python",
   "pygments_lexer": "ipython3",
   "version": "3.8.6"
  }
 },
 "nbformat": 4,
 "nbformat_minor": 4
}
