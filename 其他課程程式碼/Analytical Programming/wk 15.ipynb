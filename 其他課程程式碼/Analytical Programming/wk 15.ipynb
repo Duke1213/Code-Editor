{
 "cells": [
  {
   "cell_type": "code",
   "execution_count": 1,
   "metadata": {},
   "outputs": [],
   "source": [
    "from urllib.parse import quote_plus\n",
    "from string import ascii_uppercase\n",
    "import os\n",
    "import re\n",
    "import pandas as pd\n",
    "import sqlite3"
   ]
  },
  {
   "cell_type": "code",
   "execution_count": 2,
   "metadata": {},
   "outputs": [
    {
     "name": "stdout",
     "output_type": "stream",
     "text": [
      "['臺北市']\n"
     ]
    }
   ],
   "source": [
    "file_name = \"總統-A05-4-候選人得票數一覽表-各投開票所(臺北市).xls\"\n",
    "file_url = quote_plus(file_name)\n",
    "spreadsheet_url = \"https://taiwan-election-data.s3-ap-northeast-1.amazonaws.com/presidential_2020/{}\".format(file_url)\n",
    "xl = pd.ExcelFile(spreadsheet_url)\n",
    "print(xl.sheet_names)"
   ]
  },
  {
   "cell_type": "code",
   "execution_count": 3,
   "metadata": {
    "scrolled": true
   },
   "outputs": [
    {
     "data": {
      "text/html": [
       "<div>\n",
       "<style scoped>\n",
       "    .dataframe tbody tr th:only-of-type {\n",
       "        vertical-align: middle;\n",
       "    }\n",
       "\n",
       "    .dataframe tbody tr th {\n",
       "        vertical-align: top;\n",
       "    }\n",
       "\n",
       "    .dataframe thead th {\n",
       "        text-align: right;\n",
       "    }\n",
       "</style>\n",
       "<table border=\"1\" class=\"dataframe\">\n",
       "  <thead>\n",
       "    <tr style=\"text-align: right;\">\n",
       "      <th></th>\n",
       "      <th>第15任總統副總統選舉候選人在臺北市各投開票所得票數一覽表</th>\n",
       "      <th>Unnamed: 1</th>\n",
       "      <th>Unnamed: 2</th>\n",
       "      <th>Unnamed: 3</th>\n",
       "      <th>Unnamed: 4</th>\n",
       "      <th>Unnamed: 5</th>\n",
       "      <th>Unnamed: 6</th>\n",
       "      <th>Unnamed: 7</th>\n",
       "      <th>Unnamed: 8</th>\n",
       "      <th>Unnamed: 9</th>\n",
       "      <th>Unnamed: 10</th>\n",
       "      <th>Unnamed: 11</th>\n",
       "      <th>Unnamed: 12</th>\n",
       "      <th>Unnamed: 13</th>\n",
       "    </tr>\n",
       "  </thead>\n",
       "  <tbody>\n",
       "    <tr>\n",
       "      <th>0</th>\n",
       "      <td>鄉(鎮、市、區)別</td>\n",
       "      <td>村里別</td>\n",
       "      <td>投票所別</td>\n",
       "      <td>各組候選人得票情形</td>\n",
       "      <td>NaN</td>\n",
       "      <td>NaN</td>\n",
       "      <td>有效票數A\\nA=1+2+...+N</td>\n",
       "      <td>無效票數B</td>\n",
       "      <td>投票數C\\nC=A+B</td>\n",
       "      <td>已領未投票數\\nD\\nD=E-C</td>\n",
       "      <td>發出票數E\\nE=C+D</td>\n",
       "      <td>用餘票數F</td>\n",
       "      <td>選舉人數G\\nG=E+F</td>\n",
       "      <td>投票率H\\nH=C÷G</td>\n",
       "    </tr>\n",
       "    <tr>\n",
       "      <th>1</th>\n",
       "      <td>NaN</td>\n",
       "      <td>NaN</td>\n",
       "      <td>NaN</td>\n",
       "      <td>(1)\\n宋楚瑜\\n余湘</td>\n",
       "      <td>(2)\\n韓國瑜\\n張善政</td>\n",
       "      <td>(3)\\n蔡英文\\n賴清德</td>\n",
       "      <td>NaN</td>\n",
       "      <td>NaN</td>\n",
       "      <td>NaN</td>\n",
       "      <td>NaN</td>\n",
       "      <td>NaN</td>\n",
       "      <td>NaN</td>\n",
       "      <td>NaN</td>\n",
       "      <td>NaN</td>\n",
       "    </tr>\n",
       "    <tr>\n",
       "      <th>2</th>\n",
       "      <td>NaN</td>\n",
       "      <td>NaN</td>\n",
       "      <td>NaN</td>\n",
       "      <td>NaN</td>\n",
       "      <td>NaN</td>\n",
       "      <td>NaN</td>\n",
       "      <td>NaN</td>\n",
       "      <td>NaN</td>\n",
       "      <td>NaN</td>\n",
       "      <td>NaN</td>\n",
       "      <td>NaN</td>\n",
       "      <td>NaN</td>\n",
       "      <td>NaN</td>\n",
       "      <td>NaN</td>\n",
       "    </tr>\n",
       "    <tr>\n",
       "      <th>3</th>\n",
       "      <td>NaN</td>\n",
       "      <td>NaN</td>\n",
       "      <td>NaN</td>\n",
       "      <td>NaN</td>\n",
       "      <td>NaN</td>\n",
       "      <td>NaN</td>\n",
       "      <td>NaN</td>\n",
       "      <td>NaN</td>\n",
       "      <td>NaN</td>\n",
       "      <td>NaN</td>\n",
       "      <td>NaN</td>\n",
       "      <td>NaN</td>\n",
       "      <td>NaN</td>\n",
       "      <td>NaN</td>\n",
       "    </tr>\n",
       "    <tr>\n",
       "      <th>4</th>\n",
       "      <td>總　計</td>\n",
       "      <td>NaN</td>\n",
       "      <td>NaN</td>\n",
       "      <td>70,769</td>\n",
       "      <td>685,830</td>\n",
       "      <td>875,854</td>\n",
       "      <td>1,632,453</td>\n",
       "      <td>21,381</td>\n",
       "      <td>1,653,834</td>\n",
       "      <td>143</td>\n",
       "      <td>1,653,977</td>\n",
       "      <td>513,287</td>\n",
       "      <td>2,167,264</td>\n",
       "      <td>76.3098</td>\n",
       "    </tr>\n",
       "  </tbody>\n",
       "</table>\n",
       "</div>"
      ],
      "text/plain": [
       "  第15任總統副總統選舉候選人在臺北市各投開票所得票數一覽表 Unnamed: 1 Unnamed: 2    Unnamed: 3  \\\n",
       "0                     鄉(鎮、市、區)別        村里別       投票所別     各組候選人得票情形   \n",
       "1                           NaN        NaN        NaN  (1)\\n宋楚瑜\\n余湘   \n",
       "2                           NaN        NaN        NaN           NaN   \n",
       "3                           NaN        NaN        NaN           NaN   \n",
       "4                           總　計        NaN        NaN        70,769   \n",
       "\n",
       "      Unnamed: 4     Unnamed: 5          Unnamed: 6 Unnamed: 7   Unnamed: 8  \\\n",
       "0            NaN            NaN  有效票數A\\nA=1+2+...+N      無效票數B  投票數C\\nC=A+B   \n",
       "1  (2)\\n韓國瑜\\n張善政  (3)\\n蔡英文\\n賴清德                 NaN        NaN          NaN   \n",
       "2            NaN            NaN                 NaN        NaN          NaN   \n",
       "3            NaN            NaN                 NaN        NaN          NaN   \n",
       "4        685,830        875,854           1,632,453     21,381    1,653,834   \n",
       "\n",
       "         Unnamed: 9   Unnamed: 10 Unnamed: 11   Unnamed: 12  Unnamed: 13  \n",
       "0  已領未投票數\\nD\\nD=E-C  發出票數E\\nE=C+D       用餘票數F  選舉人數G\\nG=E+F  投票率H\\nH=C÷G  \n",
       "1               NaN           NaN         NaN           NaN          NaN  \n",
       "2               NaN           NaN         NaN           NaN          NaN  \n",
       "3               NaN           NaN         NaN           NaN          NaN  \n",
       "4               143     1,653,977     513,287     2,167,264      76.3098  "
      ]
     },
     "execution_count": 3,
     "metadata": {},
     "output_type": "execute_result"
    }
   ],
   "source": [
    "df = pd.read_excel(spreadsheet_url)\n",
    "df.head()"
   ]
  },
  {
   "cell_type": "markdown",
   "metadata": {},
   "source": [
    "## **We can specify which sheet to import via sheet_name**"
   ]
  },
  {
   "cell_type": "code",
   "execution_count": null,
   "metadata": {},
   "outputs": [],
   "source": [
    "file_name = \"區域立委-A05-2-得票數一覽表(臺北市).xls\"\n",
    "file_url = quote_plus(file_name)\n",
    "spreadsheet_url = \"https://taiwan-election-data.s3-ap-northeast-1.amazonaws.com/legislative_2020/{}\".format(file_url)\n",
    "xl = pd.ExcelFile(spreadsheet_url)\n",
    "print(xl.sheet_names)\n",
    "\n",
    "regional_legislator_taipei_city = {}\n",
    "for sheet_name in xl.sheet_names:\n",
    "    regional_legislator_taipei_city[sheet_name] = pd.read_excel(spreadsheet_url, sheet_name=sheet_name)\n",
    "for k, v in regional_legislator_taipei_city.items():\n",
    "    print(\"Shape of {} : {}\".format(k, v.shape))"
   ]
  },
  {
   "cell_type": "markdown",
   "metadata": {},
   "source": [
    "# **Using skiprows to skip those combined cells while importing spreadsheets**"
   ]
  },
  {
   "cell_type": "code",
   "execution_count": null,
   "metadata": {},
   "outputs": [],
   "source": [
    "file_name = \"總統-A05-4-候選人得票數一覽表-各投開票所(臺北市).xls\"\n",
    "file_url = quote_plus(file_name)\n",
    "spreadsheet_url = \"https://taiwan-election-data.s3-ap-northeast-1.amazonaws.com/presidential_2020/{}\".format(file_url)\n",
    "df = pd.read_excel(spreadsheet_url, skiprows=[0, 1, 3, 4], thousands=',')\n",
    "df.head()"
   ]
  },
  {
   "cell_type": "markdown",
   "metadata": {},
   "source": [
    "# **Updating columns attributes with new columns**"
   ]
  },
  {
   "cell_type": "code",
   "execution_count": null,
   "metadata": {},
   "outputs": [],
   "source": [
    "n_cols = df.columns.size\n",
    "n_candidates = n_cols - 11\n",
    "id_vars = ['town', 'village', 'office']\n",
    "candidates = list(df.columns[3:(3 + n_candidates)])\n",
    "office_cols = list(ascii_uppercase[:8])\n",
    "col_names = id_vars + candidates + office_cols\n",
    "df.columns = col_names\n",
    "\n",
    "print(n_candidates)\n",
    "print(candidates)\n",
    "print(office_cols)\n",
    "print(col_names)"
   ]
  },
  {
   "cell_type": "markdown",
   "metadata": {},
   "source": [
    "# **ffill: propagate last valid observation forward to next valid.**"
   ]
  },
  {
   "cell_type": "code",
   "execution_count": null,
   "metadata": {},
   "outputs": [],
   "source": [
    "filled_towns = df['town'].fillna(method='ffill')\n",
    "df = df.assign(town=filled_towns)\n",
    "df.head()\n",
    "\n",
    "df = df.dropna()"
   ]
  },
  {
   "cell_type": "markdown",
   "metadata": {},
   "source": [
    "# *Removing extra spaces in district via strip*"
   ]
  },
  {
   "cell_type": "code",
   "execution_count": null,
   "metadata": {},
   "outputs": [],
   "source": [
    "print(df['town'].unique())\n",
    "stripped_strict = df['town'].str.replace(\"\\u3000\", \"\")\n",
    "df = df.assign(district=stripped_strict)\n",
    "print(df['town'].unique())"
   ]
  },
  {
   "cell_type": "markdown",
   "metadata": {},
   "source": [
    "# **Pivoting candidate columns into a new pair of variables via melt**\n",
    "`melt`"
   ]
  },
  {
   "cell_type": "code",
   "execution_count": null,
   "metadata": {},
   "outputs": [],
   "source": [
    "df = df.drop(labels=office_cols, axis=1)\n",
    "df_long = pd.melt(df,\n",
    "                  id_vars=id_vars,\n",
    "                  var_name='candidate_info',\n",
    "                  value_name='votes'\n",
    "                 )\n",
    "df_long.head()"
   ]
  },
  {
   "cell_type": "markdown",
   "metadata": {},
   "source": [
    "# *總整*"
   ]
  },
  {
   "cell_type": "code",
   "execution_count": null,
   "metadata": {},
   "outputs": [],
   "source": [
    "def tidy_dataframe(df):\n",
    "    # updating columns attributes \n",
    "    n_cols = df.columns.size\n",
    "    n_candidates = n_cols - 11\n",
    "    id_vars = ['town', 'village', 'office']\n",
    "    candidates = list(df.columns[3:(3 + n_candidates)])\n",
    "    office_cols = list(ascii_uppercase[:8])\n",
    "    col_names = id_vars + candidates + office_cols\n",
    "    df.columns = col_names\n",
    "    # forward-fill district values\n",
    "    filled_towns = df['town'].fillna(method='ffill')\n",
    "    df = df.assign(town=filled_towns)\n",
    "    # removing summations\n",
    "    df = df.dropna()\n",
    "    # removing extra spaces\n",
    "    stripped_towns = df['town'].str.replace(\"\\u3000\", \"\")\n",
    "    df = df.assign(town=stripped_towns)\n",
    "    # pivoting\n",
    "    df = df.drop(labels=office_cols, axis=1)\n",
    "    tidy_df = pd.melt(df,\n",
    "                      id_vars=id_vars,\n",
    "                      var_name='candidate_info',\n",
    "                      value_name='votes'\n",
    "                     )\n",
    "    return tidy_df\n",
    "\n",
    "def adjust_presidential(df):\n",
    "    # split candidate information into 2 columns\n",
    "    candidate_info_df = df['candidate_info'].str.split(\"\\n\", expand=True)\n",
    "    numbers = candidate_info_df[0].str.replace(\"\\(|\\)\", \"\")\n",
    "    candidates = candidate_info_df[1].str.cat(candidate_info_df[2], sep=\"/\")\n",
    "    # re-arrange columns\n",
    "    df = df.drop(labels='candidate_info', axis=1)\n",
    "    df['number'] = numbers\n",
    "    df['candidate'] = candidates\n",
    "    df['office'] = df['office'].astype(int)\n",
    "    df = df[['county', 'town', 'village', 'office', 'number', 'candidate', 'votes']]\n",
    "    return df\n",
    "\n",
    "files = [i for i in os.listdir(\"presidential-2020/\") if not i.startswith('.')] # to skip those hidden files\n",
    "counties = [re.split(\"\\(|\\)\", f)[1] for f in files]\n",
    "print(files)\n",
    "print(counties)\n",
    "\n",
    "counties = ['宜蘭縣', '彰化縣', '金門縣', '桃園市', '苗栗縣', '臺南市', '雲林縣', '南投縣', '高雄市', '臺北市', '新北市', '花蓮縣', '新竹市', '新竹縣', '基隆市', '連江縣', '嘉義縣', '嘉義市', '屏東縣', '澎湖縣', '臺東縣', '臺中市']\n",
    "presidential = pd.DataFrame()\n",
    "for county in counties:\n",
    "    file_name = \"總統-A05-4-候選人得票數一覽表-各投開票所({}).xls\".format(county)\n",
    "    file_url = quote_plus(file_name)\n",
    "    spreadsheet_url = \"https://taiwan-election-data.s3-ap-northeast-1.amazonaws.com/presidential_2020/{}\".format(file_url)\n",
    "    # skip those combined cells\n",
    "    df = pd.read_excel(spreadsheet_url, skiprows=[0, 1, 3, 4], thousands=',')\n",
    "    tidy_df = tidy_dataframe(df)\n",
    "    # appending dataframe of each city/county\n",
    "    tidy_df['county'] = county\n",
    "    presidential = presidential.append(tidy_df)\n",
    "    print(\"Tidying {}\".format(file_name))\n",
    "presidential = presidential.reset_index(drop=True) # reset index for the appended dataframe"
   ]
  },
  {
   "cell_type": "code",
   "execution_count": null,
   "metadata": {},
   "outputs": [],
   "source": [
    "legislative_regional = pd.concat([regional, indigenous], axis=0)\n",
    "legislative_regional = legislative_regional.reset_index(drop=True)"
   ]
  },
  {
   "cell_type": "markdown",
   "metadata": {},
   "source": [
    "# **Extra resources**"
   ]
  },
  {
   "cell_type": "code",
   "execution_count": null,
   "metadata": {},
   "outputs": [],
   "source": [
    "from taiwan_election_2020 import TaiwanElection2020\n",
    "\n",
    "tw_election = TaiwanElection2020()\n",
    "presidential = tw_election.generate_presidential()\n",
    "legislative_regional = tw_election.generate_legislative_regional()\n",
    "legislative_at_large = tw_election.generate_legislative_at_large()"
   ]
  },
  {
   "cell_type": "code",
   "execution_count": null,
   "metadata": {},
   "outputs": [],
   "source": [
    "presidential.to_csv('presidential.csv', index=False)\n",
    "legislative_regional.to_csv('legislative_regional.csv', index=False)\n",
    "legislative_at_large.to_csv('legislative_at_large.csv', index=False)\n",
    "\n",
    "# or\n",
    "conn = sqlite3.connect('tw-election-2020.db')\n",
    "presidential.to_sql('presidential', con=conn, index=False, if_exists='replace')\n",
    "legislative_regional.to_sql('legislative_regional', con=conn, index=False, if_exists='replace')\n",
    "legislative_at_large.to_sql('legislative_at_large', con=conn, index=False, if_exists='replace')"
   ]
  }
 ],
 "metadata": {
  "kernelspec": {
   "display_name": "Python 3",
   "language": "python",
   "name": "python3"
  },
  "language_info": {
   "codemirror_mode": {
    "name": "ipython",
    "version": 3
   },
   "file_extension": ".py",
   "mimetype": "text/x-python",
   "name": "python",
   "nbconvert_exporter": "python",
   "pygments_lexer": "ipython3",
   "version": "3.8.6"
  }
 },
 "nbformat": 4,
 "nbformat_minor": 4
}
